{
 "cells": [
  {
   "cell_type": "code",
   "execution_count": 1,
   "id": "989612af",
   "metadata": {},
   "outputs": [],
   "source": [
    "import scipy.stats as stats\n",
    "import pandas as pd\n",
    "import numpy as np"
   ]
  },
  {
   "cell_type": "code",
   "execution_count": 7,
   "id": "b3a87d3a",
   "metadata": {},
   "outputs": [],
   "source": [
    "data = np.random.randint(30,100,20)"
   ]
  },
  {
   "cell_type": "code",
   "execution_count": 8,
   "id": "32528d9e",
   "metadata": {},
   "outputs": [
    {
     "data": {
      "text/plain": [
       "array([75, 63, 90, 46, 61, 81, 84, 30, 84, 46, 85, 68, 98, 69, 82, 40, 73,\n",
       "       52, 97, 61])"
      ]
     },
     "execution_count": 8,
     "metadata": {},
     "output_type": "execute_result"
    }
   ],
   "source": [
    "data"
   ]
  },
  {
   "cell_type": "code",
   "execution_count": 9,
   "id": "cf587f54",
   "metadata": {},
   "outputs": [
    {
     "data": {
      "text/plain": [
       "Ttest_1sampResult(statistic=1.920854556785816, pvalue=0.06988471098841505)"
      ]
     },
     "execution_count": 9,
     "metadata": {},
     "output_type": "execute_result"
    }
   ],
   "source": [
    "#perform one sample t-test\n",
    "\n",
    "stats.ttest_1samp(a=data, popmean=61)"
   ]
  },
  {
   "cell_type": "code",
   "execution_count": null,
   "id": "1f1e8a1e",
   "metadata": {},
   "outputs": [],
   "source": [
    "#statistic=1.920854556785816, pvalue=0.06988471098841505"
   ]
  },
  {
   "cell_type": "code",
   "execution_count": null,
   "id": "b971a2fb",
   "metadata": {},
   "outputs": [],
   "source": [
    "#alpha = 0.05, karena p value lebih besar dari alpha, maka dari itu kita gagal reject H0\n",
    "#Conclusion: The mean is equal to 61"
   ]
  },
  {
   "cell_type": "code",
   "execution_count": 5,
   "id": "b2435037",
   "metadata": {},
   "outputs": [],
   "source": [
    "#t statistic For two tailed test"
   ]
  },
  {
   "cell_type": "code",
   "execution_count": 11,
   "id": "236e5e5f",
   "metadata": {},
   "outputs": [
    {
     "data": {
      "text/plain": [
       "1.729132811521367"
      ]
     },
     "execution_count": 11,
     "metadata": {},
     "output_type": "execute_result"
    }
   ],
   "source": [
    "stats.t.ppf(1-(0.05), 19)"
   ]
  },
  {
   "cell_type": "code",
   "execution_count": null,
   "id": "ce633b3f",
   "metadata": {},
   "outputs": [],
   "source": [
    "# Critical Region: t < - 1.72 or t > 1.72\n",
    "# statistic=1.920854556785816\n",
    "# As at statistic is not in the critical region, then we fail to reject H0\n",
    "#Conclusion: The mean is equal to 61"
   ]
  },
  {
   "cell_type": "code",
   "execution_count": null,
   "id": "9fd0de1a",
   "metadata": {},
   "outputs": [],
   "source": [
    "#One tailed test:"
   ]
  },
  {
   "cell_type": "code",
   "execution_count": 12,
   "id": "06370b09",
   "metadata": {},
   "outputs": [
    {
     "data": {
      "text/plain": [
       "0.03494235549420752"
      ]
     },
     "execution_count": 12,
     "metadata": {},
     "output_type": "execute_result"
    }
   ],
   "source": [
    "0.06988471098841505/2"
   ]
  },
  {
   "cell_type": "code",
   "execution_count": null,
   "id": "47c651dd",
   "metadata": {},
   "outputs": [],
   "source": [
    "#t statistic"
   ]
  },
  {
   "cell_type": "code",
   "execution_count": 13,
   "id": "e1d2f4d4",
   "metadata": {},
   "outputs": [
    {
     "data": {
      "text/plain": [
       "1.729132811521367"
      ]
     },
     "execution_count": 13,
     "metadata": {},
     "output_type": "execute_result"
    }
   ],
   "source": [
    "stats.t.ppf(1-0.05, 19)"
   ]
  },
  {
   "cell_type": "code",
   "execution_count": null,
   "id": "06512a3b",
   "metadata": {},
   "outputs": [],
   "source": [
    "# Critical Region: t > 1.72\n",
    "# As t statistic is not in the critical region, then we fail to reject H0\n",
    "#Conclusion: The mean is equal to 61"
   ]
  },
  {
   "cell_type": "code",
   "execution_count": 14,
   "id": "b63f51c4",
   "metadata": {},
   "outputs": [
    {
     "data": {
      "text/plain": [
       "-1.7291328115213678"
      ]
     },
     "execution_count": 14,
     "metadata": {},
     "output_type": "execute_result"
    }
   ],
   "source": [
    "stats.t.ppf(0.05, 19)"
   ]
  },
  {
   "cell_type": "code",
   "execution_count": null,
   "id": "19a0dfdb",
   "metadata": {},
   "outputs": [],
   "source": [
    "# Critical Region: t < -1.72\n",
    "# As t statistic is not in the critical region, then we fail to reject H0\n",
    "#Conclusion: The mean is equal to 61"
   ]
  },
  {
   "cell_type": "code",
   "execution_count": null,
   "id": "f05067df",
   "metadata": {},
   "outputs": [],
   "source": [
    "# kesimpulanya kita gagal untuk mereject h0 dan tidak bisa dapat menentukan h1 karena p value dan metode yang lainya\n",
    "# tetap tidak bisa difine , dan mean tidak berubah hanya tetap 61 jadi rata rata kampanye pada suatu perusaahaan dalam 20 transaksi ialah 61 %."
   ]
  }
 ],
 "metadata": {
  "kernelspec": {
   "display_name": "Python 3 (ipykernel)",
   "language": "python",
   "name": "python3"
  },
  "language_info": {
   "codemirror_mode": {
    "name": "ipython",
    "version": 3
   },
   "file_extension": ".py",
   "mimetype": "text/x-python",
   "name": "python",
   "nbconvert_exporter": "python",
   "pygments_lexer": "ipython3",
   "version": "3.9.7"
  }
 },
 "nbformat": 4,
 "nbformat_minor": 5
}
