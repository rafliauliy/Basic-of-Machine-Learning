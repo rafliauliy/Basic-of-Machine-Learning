{
 "cells": [
  {
   "cell_type": "code",
   "execution_count": 3,
   "id": "6591976b",
   "metadata": {},
   "outputs": [
    {
     "name": "stdout",
     "output_type": "stream",
     "text": [
      "2001\n",
      "2004\n",
      "2006\n"
     ]
    }
   ],
   "source": [
    "year = [ '2001','2004','2006']\n",
    "\n",
    "for x in year:\n",
    "    print(x)"
   ]
  },
  {
   "cell_type": "code",
   "execution_count": 4,
   "id": "0690c282",
   "metadata": {},
   "outputs": [
    {
     "name": "stdout",
     "output_type": "stream",
     "text": [
      "enter the year:2001\n",
      "year2001 is not the leap year, The next leap year from 2001 is 2005\n"
     ]
    }
   ],
   "source": [
    "# taking an input year from user\n",
    "Year = int (input(\"enter the year:\"))\n",
    "\n",
    "#cheking the given year is a leap year\n",
    "def leap (Year):\n",
    "  if ((Year % 400 == 0)or\n",
    "      (Year % 100 != 0)and\n",
    "      (Year % 4 == 0)):\n",
    "      print(f\"year{Year}is a leap year\");\n",
    "\n",
    "\n",
    "#if the given year is not a leap year and check what's the next leap year\n",
    "  else :\n",
    "    print(f\"year{Year} is not the leap year, The next leap year from {Year} is {Year+4}\")\n",
    "\n",
    "\n",
    "#checking result\n",
    "leap(Year)\n"
   ]
  },
  {
   "cell_type": "code",
   "execution_count": null,
   "id": "55457ad5",
   "metadata": {},
   "outputs": [],
   "source": []
  }
 ],
 "metadata": {
  "kernelspec": {
   "display_name": "Python 3 (ipykernel)",
   "language": "python",
   "name": "python3"
  },
  "language_info": {
   "codemirror_mode": {
    "name": "ipython",
    "version": 3
   },
   "file_extension": ".py",
   "mimetype": "text/x-python",
   "name": "python",
   "nbconvert_exporter": "python",
   "pygments_lexer": "ipython3",
   "version": "3.9.7"
  }
 },
 "nbformat": 4,
 "nbformat_minor": 5
}
