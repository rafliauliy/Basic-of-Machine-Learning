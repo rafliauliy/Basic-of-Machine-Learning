{
 "cells": [
  {
   "cell_type": "code",
   "execution_count": 3,
   "id": "6591976b",
   "metadata": {},
   "outputs": [
    {
     "name": "stdout",
     "output_type": "stream",
     "text": [
      "2001\n",
      "2004\n",
      "2006\n"
     ]
    }
   ],
   "source": [
    "year = [ '2001','2004','2006']\n",
    "\n",
    "for x in year:\n",
    "    print(x)"
   ]
  },
  {
   "cell_type": "code",
   "execution_count": 14,
   "id": "0690c282",
   "metadata": {},
   "outputs": [
    {
     "name": "stdout",
     "output_type": "stream",
     "text": [
      "enter the year:2002\n",
      "year2002 is not the leap year, The next leap year from 2002 is 2006\n"
     ]
    }
   ],
   "source": [
    "# taking an input year from user\n",
    "Year = int (input(\"enter the year:\"))\n",
    "\n",
    "#cheking the given year is a leap year\n",
    "def leap (Year):\n",
    "  if ((Year % 400 == 0)or\n",
    "      (Year % 100 != 0)and\n",
    "      (Year % 4 == 0)):\n",
    "      print(f\"year{Year}is a leap year\");\n",
    "\n",
    "\n",
    "#if the given year is not a leap year and check what's the next leap year\n",
    "  else :\n",
    "    print(f\"year{Year} is not the leap year, The next leap year from {Year} is {Year+4}\")\n",
    "\n",
    "\n",
    "#checking result\n",
    "leap(Year)\n"
   ]
  },
  {
   "cell_type": "code",
   "execution_count": 15,
   "id": "55457ad5",
   "metadata": {},
   "outputs": [],
   "source": [
    "def leap_year(x):\n",
    "    habis_dibagi_400 = x % 400 == 0\n",
    "    habis_dibagi_100 = x % 100 == 0\n",
    "    habis_dibagi_4 = x % 4 ==0\n",
    "    \n",
    "    if habis_dibagi_400 or (habis_dibagi_4 and not habis_dibagi_100):\n",
    "        print ('Year',x,'is a leap year')\n",
    "    else:\n",
    "        print('Year',x,'is not a leap year. The next leap year after is',next_leap(x))"
   ]
  },
  {
   "cell_type": "code",
   "execution_count": 13,
   "id": "272ef304",
   "metadata": {},
   "outputs": [],
   "source": [
    "def next_leap(year):\n",
    "    while year>=0:\n",
    "        habis_dibagi_400 = year%400 ==0\n",
    "        habis_dibagi_100 = year%100 ==0\n",
    "        habis_dibagi_4 = year%4 ==0\n",
    "        if habis_dibagi_400 or (habis_dibagi_4 and not habis_dibagi_100):\n",
    "            return year\n",
    "        year=year+1"
   ]
  },
  {
   "cell_type": "code",
   "execution_count": null,
   "id": "f92c2abb",
   "metadata": {},
   "outputs": [],
   "source": []
  },
  {
   "cell_type": "code",
   "execution_count": null,
   "id": "200ae370",
   "metadata": {},
   "outputs": [],
   "source": []
  }
 ],
 "metadata": {
  "kernelspec": {
   "display_name": "Python 3 (ipykernel)",
   "language": "python",
   "name": "python3"
  },
  "language_info": {
   "codemirror_mode": {
    "name": "ipython",
    "version": 3
   },
   "file_extension": ".py",
   "mimetype": "text/x-python",
   "name": "python",
   "nbconvert_exporter": "python",
   "pygments_lexer": "ipython3",
   "version": "3.9.7"
  }
 },
 "nbformat": 4,
 "nbformat_minor": 5
}
