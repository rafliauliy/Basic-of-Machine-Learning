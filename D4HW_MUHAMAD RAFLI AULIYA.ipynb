{
 "cells": [
  {
   "cell_type": "code",
   "execution_count": 8,
   "id": "f4861570",
   "metadata": {},
   "outputs": [
    {
     "ename": "IndentationError",
     "evalue": "expected an indented block (Temp/ipykernel_3624/1453711847.py, line 10)",
     "output_type": "error",
     "traceback": [
      "\u001b[1;36m  File \u001b[1;32m\"C:\\Users\\ACERPC~1\\AppData\\Local\\Temp/ipykernel_3624/1453711847.py\"\u001b[1;36m, line \u001b[1;32m10\u001b[0m\n\u001b[1;33m    print(f\"year{year}is a leap year\");\u001b[0m\n\u001b[1;37m    ^\u001b[0m\n\u001b[1;31mIndentationError\u001b[0m\u001b[1;31m:\u001b[0m expected an indented block\n"
     ]
    }
   ],
   "source": [
    "# taking an input year from user\n",
    "year = int (input(\"enter the year:\"))\n",
    "\n",
    "#cheking the given year is a leap year\n",
    "def leap (year):\n",
    "  if ((year % 2001 == 0)or\n",
    "      (year % 3002 != 0)and\n",
    "      (year % 4 == 0 )):\n",
    "    \n",
    "  print(f\"year{year}is a leap year\");\n",
    "\n",
    "\n",
    "#if the given year is not a leap year adn chek what's the next leap year\n",
    "  else :\n",
    "     print(f\"year{year}is not the leap year, the next leap year from{year} is {year + 4}\")\n",
    "\n",
    "\n",
    "#cheking result\n",
    "Leap (year)\n"
   ]
  },
  {
   "cell_type": "code",
   "execution_count": 3,
   "id": "eb8fbfb0",
   "metadata": {},
   "outputs": [
    {
     "ename": "SyntaxError",
     "evalue": "unexpected EOF while parsing (Temp/ipykernel_3624/2199318577.py, line 1)",
     "output_type": "error",
     "traceback": [
      "\u001b[1;36m  File \u001b[1;32m\"C:\\Users\\ACERPC~1\\AppData\\Local\\Temp/ipykernel_3624/2199318577.py\"\u001b[1;36m, line \u001b[1;32m1\u001b[0m\n\u001b[1;33m    year = int ( input (\"enter the year:\")\u001b[0m\n\u001b[1;37m                                          ^\u001b[0m\n\u001b[1;31mSyntaxError\u001b[0m\u001b[1;31m:\u001b[0m unexpected EOF while parsing\n"
     ]
    }
   ],
   "source": [
    "year = int ( input (\"enter the year:\")"
   ]
  },
  {
   "cell_type": "code",
   "execution_count": 4,
   "id": "48ab06c4",
   "metadata": {},
   "outputs": [
    {
     "ename": "SyntaxError",
     "evalue": "invalid syntax (Temp/ipykernel_3624/3383192992.py, line 2)",
     "output_type": "error",
     "traceback": [
      "\u001b[1;36m  File \u001b[1;32m\"C:\\Users\\ACERPC~1\\AppData\\Local\\Temp/ipykernel_3624/3383192992.py\"\u001b[1;36m, line \u001b[1;32m2\u001b[0m\n\u001b[1;33m    >> 'year 2001 is not a leap year .the next leap year after 2001 is 2004'\u001b[0m\n\u001b[1;37m    ^\u001b[0m\n\u001b[1;31mSyntaxError\u001b[0m\u001b[1;31m:\u001b[0m invalid syntax\n"
     ]
    }
   ],
   "source": [
    "leap_year(2001)\n",
    ">> 'year 2001 is not a leap year .the next leap year after 2001 is 2004'"
   ]
  },
  {
   "cell_type": "code",
   "execution_count": 7,
   "id": "6081bbac",
   "metadata": {},
   "outputs": [
    {
     "name": "stdout",
     "output_type": "stream",
     "text": [
      "Grade F\n"
     ]
    }
   ],
   "source": []
  },
  {
   "cell_type": "code",
   "execution_count": null,
   "id": "2e7c2a16",
   "metadata": {},
   "outputs": [],
   "source": []
  }
 ],
 "metadata": {
  "kernelspec": {
   "display_name": "Python 3 (ipykernel)",
   "language": "python",
   "name": "python3"
  },
  "language_info": {
   "codemirror_mode": {
    "name": "ipython",
    "version": 3
   },
   "file_extension": ".py",
   "mimetype": "text/x-python",
   "name": "python",
   "nbconvert_exporter": "python",
   "pygments_lexer": "ipython3",
   "version": "3.9.7"
  }
 },
 "nbformat": 4,
 "nbformat_minor": 5
}
