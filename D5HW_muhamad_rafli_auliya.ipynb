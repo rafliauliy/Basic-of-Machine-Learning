{
 "cells": [
  {
   "cell_type": "code",
   "execution_count": 35,
   "id": "16f3fa25",
   "metadata": {},
   "outputs": [],
   "source": [
    "#Pandas DataFrame"
   ]
  },
  {
   "cell_type": "code",
   "execution_count": 54,
   "id": "1bc1837d",
   "metadata": {},
   "outputs": [],
   "source": [
    "import pandas as pd\n",
    "df = pd.DataFrame(columns=[\"name\", \"weight\", \"height\", \"birth_year\", \"gender\", \"city\"])"
   ]
  },
  {
   "cell_type": "code",
   "execution_count": 55,
   "id": "3561465f",
   "metadata": {},
   "outputs": [
    {
     "data": {
      "text/html": [
       "<div>\n",
       "<style scoped>\n",
       "    .dataframe tbody tr th:only-of-type {\n",
       "        vertical-align: middle;\n",
       "    }\n",
       "\n",
       "    .dataframe tbody tr th {\n",
       "        vertical-align: top;\n",
       "    }\n",
       "\n",
       "    .dataframe thead th {\n",
       "        text-align: right;\n",
       "    }\n",
       "</style>\n",
       "<table border=\"1\" class=\"dataframe\">\n",
       "  <thead>\n",
       "    <tr style=\"text-align: right;\">\n",
       "      <th></th>\n",
       "      <th>name</th>\n",
       "      <th>weight</th>\n",
       "      <th>height</th>\n",
       "      <th>birth_year</th>\n",
       "      <th>gender</th>\n",
       "      <th>city</th>\n",
       "    </tr>\n",
       "  </thead>\n",
       "  <tbody>\n",
       "  </tbody>\n",
       "</table>\n",
       "</div>"
      ],
      "text/plain": [
       "Empty DataFrame\n",
       "Columns: [name, weight, height, birth_year, gender, city]\n",
       "Index: []"
      ]
     },
     "execution_count": 55,
     "metadata": {},
     "output_type": "execute_result"
    }
   ],
   "source": [
    "df"
   ]
  },
  {
   "cell_type": "code",
   "execution_count": 56,
   "id": "1bfb6430",
   "metadata": {
    "scrolled": true
   },
   "outputs": [
    {
     "data": {
      "text/html": [
       "<div>\n",
       "<style scoped>\n",
       "    .dataframe tbody tr th:only-of-type {\n",
       "        vertical-align: middle;\n",
       "    }\n",
       "\n",
       "    .dataframe tbody tr th {\n",
       "        vertical-align: top;\n",
       "    }\n",
       "\n",
       "    .dataframe thead th {\n",
       "        text-align: right;\n",
       "    }\n",
       "</style>\n",
       "<table border=\"1\" class=\"dataframe\">\n",
       "  <thead>\n",
       "    <tr style=\"text-align: right;\">\n",
       "      <th></th>\n",
       "      <th>name</th>\n",
       "      <th>weight</th>\n",
       "      <th>height</th>\n",
       "      <th>birth_year</th>\n",
       "      <th>gender</th>\n",
       "      <th>city</th>\n",
       "    </tr>\n",
       "  </thead>\n",
       "  <tbody>\n",
       "    <tr>\n",
       "      <th>0</th>\n",
       "      <td>ana</td>\n",
       "      <td>42.2</td>\n",
       "      <td>155</td>\n",
       "      <td>2000</td>\n",
       "      <td>female</td>\n",
       "      <td>newyork</td>\n",
       "    </tr>\n",
       "    <tr>\n",
       "      <th>1</th>\n",
       "      <td>dane</td>\n",
       "      <td>50.5</td>\n",
       "      <td>160</td>\n",
       "      <td>1997</td>\n",
       "      <td>male</td>\n",
       "      <td>chicago</td>\n",
       "    </tr>\n",
       "    <tr>\n",
       "      <th>2</th>\n",
       "      <td>david</td>\n",
       "      <td>62.1</td>\n",
       "      <td>162</td>\n",
       "      <td>1996</td>\n",
       "      <td>male</td>\n",
       "      <td>austin</td>\n",
       "    </tr>\n",
       "    <tr>\n",
       "      <th>3</th>\n",
       "      <td>kevin</td>\n",
       "      <td>64.0</td>\n",
       "      <td>170</td>\n",
       "      <td>1987</td>\n",
       "      <td>male</td>\n",
       "      <td>newyork</td>\n",
       "    </tr>\n",
       "    <tr>\n",
       "      <th>4</th>\n",
       "      <td>joe</td>\n",
       "      <td>59.0</td>\n",
       "      <td>167</td>\n",
       "      <td>1998</td>\n",
       "      <td>male</td>\n",
       "      <td>Nan</td>\n",
       "    </tr>\n",
       "    <tr>\n",
       "      <th>5</th>\n",
       "      <td>rose</td>\n",
       "      <td>Nan</td>\n",
       "      <td>159</td>\n",
       "      <td>2003</td>\n",
       "      <td>female</td>\n",
       "      <td>newyork</td>\n",
       "    </tr>\n",
       "  </tbody>\n",
       "</table>\n",
       "</div>"
      ],
      "text/plain": [
       "    name weight height birth_year  gender     city\n",
       "0    ana   42.2    155       2000  female  newyork\n",
       "1   dane   50.5    160       1997    male  chicago\n",
       "2  david   62.1    162       1996    male   austin\n",
       "3  kevin   64.0    170       1987    male  newyork\n",
       "4    joe   59.0    167       1998    male      Nan\n",
       "5   rose    Nan    159       2003  female  newyork"
      ]
     },
     "execution_count": 56,
     "metadata": {},
     "output_type": "execute_result"
    }
   ],
   "source": [
    "df.loc[0] = [\"ana\", 42.2, 155, 2000, \"female\", \"newyork\"]\n",
    "df.loc[1] = [\"dane\", 50.5, 160, 1997, \"male\", \"chicago\"]\n",
    "df.loc[2] = [\"david\", 62.1, 162, 1996, \"male\", \"austin\"]\n",
    "df.loc[3] = [\"kevin\", 64.0, 170, 1987, \"male\", \"newyork\"]\n",
    "df.loc[4] = [\"joe\", 59.0, 167, 1998, \"male\", \"Nan\"]\n",
    "df.loc[5] = [\"rose\", \"Nan\", 159, 2003, \"female\", \"newyork\"]\n",
    "\n",
    "df"
   ]
  },
  {
   "cell_type": "code",
   "execution_count": 57,
   "id": "5ff4d070",
   "metadata": {},
   "outputs": [],
   "source": [
    "#Print the basic DataFrame info"
   ]
  },
  {
   "cell_type": "code",
   "execution_count": 58,
   "id": "6eedfae0",
   "metadata": {
    "scrolled": true
   },
   "outputs": [
    {
     "name": "stdout",
     "output_type": "stream",
     "text": [
      "<class 'pandas.core.frame.DataFrame'>\n",
      "Index: 0 entries\n",
      "Data columns (total 6 columns):\n",
      " #   Column      Non-Null Count  Dtype \n",
      "---  ------      --------------  ----- \n",
      " 0   name        0 non-null      object\n",
      " 1   weight      0 non-null      object\n",
      " 2   height      0 non-null      object\n",
      " 3   birth_year  0 non-null      object\n",
      " 4   gender      0 non-null      object\n",
      " 5   city        0 non-null      object\n",
      "dtypes: object(6)\n",
      "memory usage: 0.0+ bytes\n"
     ]
    }
   ],
   "source": [
    "df = pd.DataFrame(columns=[\"name\", \"weight\", \"height\", \"birth_year\", \"gender\", \"city\"])\n",
    "\n",
    "df.info()\n",
    "\n"
   ]
  },
  {
   "cell_type": "code",
   "execution_count": 59,
   "id": "e5452e20",
   "metadata": {},
   "outputs": [],
   "source": [
    "#Print the basic statistics information for numerical columns"
   ]
  },
  {
   "cell_type": "code",
   "execution_count": 60,
   "id": "88f6014f",
   "metadata": {},
   "outputs": [
    {
     "name": "stdout",
     "output_type": "stream",
     "text": [
      "count       0\n",
      "unique      0\n",
      "top       NaN\n",
      "freq      NaN\n",
      "Name: weight, dtype: object\n"
     ]
    }
   ],
   "source": [
    "stats_numeric = df['weight'].describe()\n",
    "print (stats_numeric)"
   ]
  },
  {
   "cell_type": "code",
   "execution_count": 61,
   "id": "9570ceb8",
   "metadata": {
    "scrolled": true
   },
   "outputs": [
    {
     "name": "stdout",
     "output_type": "stream",
     "text": [
      "count       0\n",
      "unique      0\n",
      "top       NaN\n",
      "freq      NaN\n",
      "Name: height, dtype: object\n"
     ]
    }
   ],
   "source": [
    "stats_numeric = df['height'].describe()\n",
    "print (stats_numeric)"
   ]
  },
  {
   "cell_type": "code",
   "execution_count": 62,
   "id": "ace00b36",
   "metadata": {},
   "outputs": [
    {
     "name": "stdout",
     "output_type": "stream",
     "text": [
      "count       0\n",
      "unique      0\n",
      "top       NaN\n",
      "freq      NaN\n",
      "Name: birth_year, dtype: object\n"
     ]
    }
   ],
   "source": [
    "stats_numeric = df['birth_year'].describe()\n",
    "print (stats_numeric)"
   ]
  },
  {
   "cell_type": "code",
   "execution_count": 63,
   "id": "4681d91c",
   "metadata": {
    "scrolled": false
   },
   "outputs": [
    {
     "name": "stdout",
     "output_type": "stream",
     "text": [
      "       name weight height birth_year gender city\n",
      "count     0      0      0          0      0    0\n",
      "unique    0      0      0          0      0    0\n",
      "top     NaN    NaN    NaN        NaN    NaN  NaN\n",
      "freq    NaN    NaN    NaN        NaN    NaN  NaN\n"
     ]
    }
   ],
   "source": [
    "stats = df.describe(include='all')\n",
    "print (stats)"
   ]
  },
  {
   "cell_type": "code",
   "execution_count": 64,
   "id": "e63a569b",
   "metadata": {},
   "outputs": [],
   "source": [
    "#Reorder the columns to match with the following Pandas DataFrame"
   ]
  },
  {
   "cell_type": "code",
   "execution_count": 65,
   "id": "2096ccd5",
   "metadata": {
    "scrolled": true
   },
   "outputs": [
    {
     "name": "stdout",
     "output_type": "stream",
     "text": [
      "Empty DataFrame\n",
      "Columns: [name, weight, height, birth_year, gender, city]\n",
      "Index: []\n"
     ]
    }
   ],
   "source": [
    "new_columns = [\"name\", \"weight\", \"height\", \"birth_year\", \"gender\", \"city\"]\n",
    "df = df[new_columns]\n",
    "print(df)"
   ]
  },
  {
   "cell_type": "code",
   "execution_count": 66,
   "id": "d2b9faa3",
   "metadata": {},
   "outputs": [],
   "source": [
    "#Print all rows that match either of the following conditions\n",
    "#Men that born after the year 1996\n",
    "#Women with height > 157 "
   ]
  },
  {
   "cell_type": "code",
   "execution_count": 67,
   "id": "8aef2d62",
   "metadata": {
    "scrolled": true
   },
   "outputs": [
    {
     "data": {
      "text/html": [
       "<div>\n",
       "<style scoped>\n",
       "    .dataframe tbody tr th:only-of-type {\n",
       "        vertical-align: middle;\n",
       "    }\n",
       "\n",
       "    .dataframe tbody tr th {\n",
       "        vertical-align: top;\n",
       "    }\n",
       "\n",
       "    .dataframe thead th {\n",
       "        text-align: right;\n",
       "    }\n",
       "</style>\n",
       "<table border=\"1\" class=\"dataframe\">\n",
       "  <thead>\n",
       "    <tr style=\"text-align: right;\">\n",
       "      <th></th>\n",
       "      <th>name</th>\n",
       "      <th>weight</th>\n",
       "      <th>height</th>\n",
       "      <th>birth_year</th>\n",
       "      <th>gender</th>\n",
       "      <th>city</th>\n",
       "    </tr>\n",
       "  </thead>\n",
       "  <tbody>\n",
       "    <tr>\n",
       "      <th>0</th>\n",
       "      <td>ana</td>\n",
       "      <td>42.2</td>\n",
       "      <td>155</td>\n",
       "      <td>2000</td>\n",
       "      <td>female</td>\n",
       "      <td>newyork</td>\n",
       "    </tr>\n",
       "    <tr>\n",
       "      <th>1</th>\n",
       "      <td>dane</td>\n",
       "      <td>50.2</td>\n",
       "      <td>160</td>\n",
       "      <td>1997</td>\n",
       "      <td>male</td>\n",
       "      <td>chicago</td>\n",
       "    </tr>\n",
       "    <tr>\n",
       "      <th>2</th>\n",
       "      <td>david</td>\n",
       "      <td>62.2</td>\n",
       "      <td>162</td>\n",
       "      <td>1996</td>\n",
       "      <td>male</td>\n",
       "      <td>austin</td>\n",
       "    </tr>\n",
       "    <tr>\n",
       "      <th>3</th>\n",
       "      <td>kevin</td>\n",
       "      <td>64.0</td>\n",
       "      <td>170</td>\n",
       "      <td>1987</td>\n",
       "      <td>male</td>\n",
       "      <td>newyork</td>\n",
       "    </tr>\n",
       "    <tr>\n",
       "      <th>4</th>\n",
       "      <td>joe</td>\n",
       "      <td>59.0</td>\n",
       "      <td>167</td>\n",
       "      <td>1998</td>\n",
       "      <td>male</td>\n",
       "      <td>Nan</td>\n",
       "    </tr>\n",
       "  </tbody>\n",
       "</table>\n",
       "</div>"
      ],
      "text/plain": [
       "    name weight  height  birth_year  gender     city\n",
       "0    ana   42.2     155        2000  female  newyork\n",
       "1   dane   50.2     160        1997    male  chicago\n",
       "2  david   62.2     162        1996    male   austin\n",
       "3  kevin   64.0     170        1987    male  newyork\n",
       "4    joe   59.0     167        1998    male      Nan"
      ]
     },
     "execution_count": 67,
     "metadata": {},
     "output_type": "execute_result"
    }
   ],
   "source": [
    "raw_data = {'name': ['ana', 'dane', 'david', 'kevin', 'joe', 'rose'],\n",
    "'weight': [42.2, 50.2, 62.2, 64.0, 59.0, \"Nan\"],\n",
    "'height': [155, 160, 162, 170, 167, 159],\n",
    "'birth_year': [2000, 1997, 1996, 1987,1998, 2003],\n",
    "'gender': ['female', 'male','male','male','male', 'female'],\n",
    "'city': ['newyork', 'chicago', 'austin', 'newyork', 'Nan', 'newyork'],}\n",
    "\n",
    "df = pd.DataFrame(raw_data)\n",
    "df.head()"
   ]
  },
  {
   "cell_type": "code",
   "execution_count": 68,
   "id": "587d7ea7",
   "metadata": {},
   "outputs": [],
   "source": [
    "#Men that born after the year 1996"
   ]
  },
  {
   "cell_type": "code",
   "execution_count": 69,
   "id": "bb422459",
   "metadata": {
    "scrolled": true
   },
   "outputs": [
    {
     "data": {
      "text/html": [
       "<div>\n",
       "<style scoped>\n",
       "    .dataframe tbody tr th:only-of-type {\n",
       "        vertical-align: middle;\n",
       "    }\n",
       "\n",
       "    .dataframe tbody tr th {\n",
       "        vertical-align: top;\n",
       "    }\n",
       "\n",
       "    .dataframe thead th {\n",
       "        text-align: right;\n",
       "    }\n",
       "</style>\n",
       "<table border=\"1\" class=\"dataframe\">\n",
       "  <thead>\n",
       "    <tr style=\"text-align: right;\">\n",
       "      <th></th>\n",
       "      <th>name</th>\n",
       "      <th>weight</th>\n",
       "      <th>height</th>\n",
       "      <th>birth_year</th>\n",
       "      <th>gender</th>\n",
       "      <th>city</th>\n",
       "    </tr>\n",
       "  </thead>\n",
       "  <tbody>\n",
       "    <tr>\n",
       "      <th>1</th>\n",
       "      <td>dane</td>\n",
       "      <td>50.2</td>\n",
       "      <td>160</td>\n",
       "      <td>1997</td>\n",
       "      <td>male</td>\n",
       "      <td>chicago</td>\n",
       "    </tr>\n",
       "    <tr>\n",
       "      <th>4</th>\n",
       "      <td>joe</td>\n",
       "      <td>59.0</td>\n",
       "      <td>167</td>\n",
       "      <td>1998</td>\n",
       "      <td>male</td>\n",
       "      <td>Nan</td>\n",
       "    </tr>\n",
       "  </tbody>\n",
       "</table>\n",
       "</div>"
      ],
      "text/plain": [
       "   name weight  height  birth_year gender     city\n",
       "1  dane   50.2     160        1997   male  chicago\n",
       "4   joe   59.0     167        1998   male      Nan"
      ]
     },
     "execution_count": 69,
     "metadata": {},
     "output_type": "execute_result"
    }
   ],
   "source": [
    "array = ['ana', 'david', 'kevin', 'rose']\n",
    "df.loc[~df['name'].isin(array)]"
   ]
  },
  {
   "cell_type": "code",
   "execution_count": 70,
   "id": "c365f7a7",
   "metadata": {},
   "outputs": [],
   "source": [
    "#Women with height > 157 "
   ]
  },
  {
   "cell_type": "code",
   "execution_count": 71,
   "id": "3cf76b07",
   "metadata": {},
   "outputs": [
    {
     "data": {
      "text/html": [
       "<div>\n",
       "<style scoped>\n",
       "    .dataframe tbody tr th:only-of-type {\n",
       "        vertical-align: middle;\n",
       "    }\n",
       "\n",
       "    .dataframe tbody tr th {\n",
       "        vertical-align: top;\n",
       "    }\n",
       "\n",
       "    .dataframe thead th {\n",
       "        text-align: right;\n",
       "    }\n",
       "</style>\n",
       "<table border=\"1\" class=\"dataframe\">\n",
       "  <thead>\n",
       "    <tr style=\"text-align: right;\">\n",
       "      <th></th>\n",
       "      <th>name</th>\n",
       "      <th>weight</th>\n",
       "      <th>height</th>\n",
       "      <th>birth_year</th>\n",
       "      <th>gender</th>\n",
       "      <th>city</th>\n",
       "    </tr>\n",
       "  </thead>\n",
       "  <tbody>\n",
       "    <tr>\n",
       "      <th>5</th>\n",
       "      <td>rose</td>\n",
       "      <td>Nan</td>\n",
       "      <td>159</td>\n",
       "      <td>2003</td>\n",
       "      <td>female</td>\n",
       "      <td>newyork</td>\n",
       "    </tr>\n",
       "  </tbody>\n",
       "</table>\n",
       "</div>"
      ],
      "text/plain": [
       "   name weight  height  birth_year  gender     city\n",
       "5  rose    Nan     159        2003  female  newyork"
      ]
     },
     "execution_count": 71,
     "metadata": {},
     "output_type": "execute_result"
    }
   ],
   "source": [
    "array = ['ana', 'dane', 'david', 'kevin', 'joe']\n",
    "df.loc[~df['name'].isin(array)]"
   ]
  },
  {
   "cell_type": "code",
   "execution_count": 33,
   "id": "b93c02cf",
   "metadata": {},
   "outputs": [],
   "source": [
    "#Fill NaN of height with mean of the gender and fill NaN of city with mode"
   ]
  },
  {
   "cell_type": "code",
   "execution_count": 53,
   "id": "d1490e2d",
   "metadata": {
    "scrolled": true
   },
   "outputs": [
    {
     "data": {
      "text/html": [
       "<div>\n",
       "<style scoped>\n",
       "    .dataframe tbody tr th:only-of-type {\n",
       "        vertical-align: middle;\n",
       "    }\n",
       "\n",
       "    .dataframe tbody tr th {\n",
       "        vertical-align: top;\n",
       "    }\n",
       "\n",
       "    .dataframe thead th {\n",
       "        text-align: right;\n",
       "    }\n",
       "</style>\n",
       "<table border=\"1\" class=\"dataframe\">\n",
       "  <thead>\n",
       "    <tr style=\"text-align: right;\">\n",
       "      <th></th>\n",
       "      <th>name</th>\n",
       "      <th>weight</th>\n",
       "      <th>height</th>\n",
       "      <th>birth_year</th>\n",
       "      <th>gender</th>\n",
       "      <th>city</th>\n",
       "    </tr>\n",
       "  </thead>\n",
       "  <tbody>\n",
       "    <tr>\n",
       "      <th>0</th>\n",
       "      <td>ana</td>\n",
       "      <td>42.2</td>\n",
       "      <td>155</td>\n",
       "      <td>2000</td>\n",
       "      <td>female</td>\n",
       "      <td>newyork</td>\n",
       "    </tr>\n",
       "    <tr>\n",
       "      <th>1</th>\n",
       "      <td>dane</td>\n",
       "      <td>50.2</td>\n",
       "      <td>160</td>\n",
       "      <td>1997</td>\n",
       "      <td>male</td>\n",
       "      <td>chicago</td>\n",
       "    </tr>\n",
       "    <tr>\n",
       "      <th>2</th>\n",
       "      <td>david</td>\n",
       "      <td>62.2</td>\n",
       "      <td>162</td>\n",
       "      <td>1996</td>\n",
       "      <td>male</td>\n",
       "      <td>austin</td>\n",
       "    </tr>\n",
       "    <tr>\n",
       "      <th>3</th>\n",
       "      <td>kevin</td>\n",
       "      <td>64.0</td>\n",
       "      <td>170</td>\n",
       "      <td>1987</td>\n",
       "      <td>male</td>\n",
       "      <td>newyork</td>\n",
       "    </tr>\n",
       "    <tr>\n",
       "      <th>4</th>\n",
       "      <td>joe</td>\n",
       "      <td>59.0</td>\n",
       "      <td>167</td>\n",
       "      <td>1998</td>\n",
       "      <td>male</td>\n",
       "      <td>Nan</td>\n",
       "    </tr>\n",
       "    <tr>\n",
       "      <th>5</th>\n",
       "      <td>rose</td>\n",
       "      <td>Nan</td>\n",
       "      <td>159</td>\n",
       "      <td>2003</td>\n",
       "      <td>female</td>\n",
       "      <td>newyork</td>\n",
       "    </tr>\n",
       "  </tbody>\n",
       "</table>\n",
       "</div>"
      ],
      "text/plain": [
       "    name weight  height  birth_year  gender     city\n",
       "0    ana   42.2     155        2000  female  newyork\n",
       "1   dane   50.2     160        1997    male  chicago\n",
       "2  david   62.2     162        1996    male   austin\n",
       "3  kevin   64.0     170        1987    male  newyork\n",
       "4    joe   59.0     167        1998    male      Nan\n",
       "5   rose    Nan     159        2003  female  newyork"
      ]
     },
     "execution_count": 53,
     "metadata": {},
     "output_type": "execute_result"
    }
   ],
   "source": [
    "df[\"height\"] = df[\"height\"].fillna(df[\"height\"].mean())\n",
    "df"
   ]
  },
  {
   "cell_type": "code",
   "execution_count": 91,
   "id": "4af4e773",
   "metadata": {},
   "outputs": [
    {
     "data": {
      "text/html": [
       "<div>\n",
       "<style scoped>\n",
       "    .dataframe tbody tr th:only-of-type {\n",
       "        vertical-align: middle;\n",
       "    }\n",
       "\n",
       "    .dataframe tbody tr th {\n",
       "        vertical-align: top;\n",
       "    }\n",
       "\n",
       "    .dataframe thead th {\n",
       "        text-align: right;\n",
       "    }\n",
       "</style>\n",
       "<table border=\"1\" class=\"dataframe\">\n",
       "  <thead>\n",
       "    <tr style=\"text-align: right;\">\n",
       "      <th></th>\n",
       "      <th>name</th>\n",
       "      <th>weight</th>\n",
       "      <th>height</th>\n",
       "      <th>birth_year</th>\n",
       "      <th>gender</th>\n",
       "      <th>city</th>\n",
       "    </tr>\n",
       "  </thead>\n",
       "  <tbody>\n",
       "    <tr>\n",
       "      <th>0</th>\n",
       "      <td>ana</td>\n",
       "      <td>42.2</td>\n",
       "      <td>155</td>\n",
       "      <td>2000</td>\n",
       "      <td>female</td>\n",
       "      <td>newyork</td>\n",
       "    </tr>\n",
       "    <tr>\n",
       "      <th>1</th>\n",
       "      <td>dane</td>\n",
       "      <td>50.2</td>\n",
       "      <td>160</td>\n",
       "      <td>1997</td>\n",
       "      <td>male</td>\n",
       "      <td>chicago</td>\n",
       "    </tr>\n",
       "    <tr>\n",
       "      <th>2</th>\n",
       "      <td>david</td>\n",
       "      <td>62.2</td>\n",
       "      <td>162</td>\n",
       "      <td>1996</td>\n",
       "      <td>male</td>\n",
       "      <td>austin</td>\n",
       "    </tr>\n",
       "    <tr>\n",
       "      <th>3</th>\n",
       "      <td>kevin</td>\n",
       "      <td>64.0</td>\n",
       "      <td>170</td>\n",
       "      <td>1987</td>\n",
       "      <td>male</td>\n",
       "      <td>newyork</td>\n",
       "    </tr>\n",
       "    <tr>\n",
       "      <th>4</th>\n",
       "      <td>joe</td>\n",
       "      <td>59.0</td>\n",
       "      <td>167</td>\n",
       "      <td>1998</td>\n",
       "      <td>male</td>\n",
       "      <td>Nan</td>\n",
       "    </tr>\n",
       "    <tr>\n",
       "      <th>5</th>\n",
       "      <td>rose</td>\n",
       "      <td>Nan</td>\n",
       "      <td>159</td>\n",
       "      <td>2003</td>\n",
       "      <td>female</td>\n",
       "      <td>newyork</td>\n",
       "    </tr>\n",
       "  </tbody>\n",
       "</table>\n",
       "</div>"
      ],
      "text/plain": [
       "    name weight  height  birth_year  gender     city\n",
       "0    ana   42.2     155        2000  female  newyork\n",
       "1   dane   50.2     160        1997    male  chicago\n",
       "2  david   62.2     162        1996    male   austin\n",
       "3  kevin   64.0     170        1987    male  newyork\n",
       "4    joe   59.0     167        1998    male      Nan\n",
       "5   rose    Nan     159        2003  female  newyork"
      ]
     },
     "execution_count": 91,
     "metadata": {},
     "output_type": "execute_result"
    }
   ],
   "source": [
    "df[\"city\"] = df[\"city\"].fillna(df[\"city\"].mode()[0])\n",
    "df"
   ]
  },
  {
   "cell_type": "code",
   "execution_count": null,
   "id": "d13acb9d",
   "metadata": {},
   "outputs": [],
   "source": [
    "#Check outliers of weight and remove if any"
   ]
  },
  {
   "cell_type": "code",
   "execution_count": 24,
   "id": "2a8ccac9",
   "metadata": {},
   "outputs": [
    {
     "data": {
      "text/html": [
       "<div>\n",
       "<style scoped>\n",
       "    .dataframe tbody tr th:only-of-type {\n",
       "        vertical-align: middle;\n",
       "    }\n",
       "\n",
       "    .dataframe tbody tr th {\n",
       "        vertical-align: top;\n",
       "    }\n",
       "\n",
       "    .dataframe thead th {\n",
       "        text-align: right;\n",
       "    }\n",
       "</style>\n",
       "<table border=\"1\" class=\"dataframe\">\n",
       "  <thead>\n",
       "    <tr style=\"text-align: right;\">\n",
       "      <th></th>\n",
       "      <th>name</th>\n",
       "      <th>weight</th>\n",
       "      <th>height</th>\n",
       "      <th>birth_year</th>\n",
       "      <th>gender</th>\n",
       "      <th>city</th>\n",
       "    </tr>\n",
       "  </thead>\n",
       "  <tbody>\n",
       "    <tr>\n",
       "      <th>0</th>\n",
       "      <td>ana</td>\n",
       "      <td>42.2</td>\n",
       "      <td>155</td>\n",
       "      <td>2000</td>\n",
       "      <td>female</td>\n",
       "      <td>newyork</td>\n",
       "    </tr>\n",
       "    <tr>\n",
       "      <th>1</th>\n",
       "      <td>dane</td>\n",
       "      <td>50.2</td>\n",
       "      <td>160</td>\n",
       "      <td>1997</td>\n",
       "      <td>male</td>\n",
       "      <td>chicago</td>\n",
       "    </tr>\n",
       "    <tr>\n",
       "      <th>2</th>\n",
       "      <td>david</td>\n",
       "      <td>62.2</td>\n",
       "      <td>162</td>\n",
       "      <td>1996</td>\n",
       "      <td>male</td>\n",
       "      <td>austin</td>\n",
       "    </tr>\n",
       "    <tr>\n",
       "      <th>3</th>\n",
       "      <td>kevin</td>\n",
       "      <td>64.0</td>\n",
       "      <td>170</td>\n",
       "      <td>1987</td>\n",
       "      <td>male</td>\n",
       "      <td>newyork</td>\n",
       "    </tr>\n",
       "    <tr>\n",
       "      <th>4</th>\n",
       "      <td>joe</td>\n",
       "      <td>59.0</td>\n",
       "      <td>167</td>\n",
       "      <td>1998</td>\n",
       "      <td>male</td>\n",
       "      <td>Nan</td>\n",
       "    </tr>\n",
       "    <tr>\n",
       "      <th>5</th>\n",
       "      <td>rose</td>\n",
       "      <td>Nan</td>\n",
       "      <td>159</td>\n",
       "      <td>2003</td>\n",
       "      <td>female</td>\n",
       "      <td>newyork</td>\n",
       "    </tr>\n",
       "  </tbody>\n",
       "</table>\n",
       "</div>"
      ],
      "text/plain": [
       "    name weight  height  birth_year  gender     city\n",
       "0    ana   42.2     155        2000  female  newyork\n",
       "1   dane   50.2     160        1997    male  chicago\n",
       "2  david   62.2     162        1996    male   austin\n",
       "3  kevin   64.0     170        1987    male  newyork\n",
       "4    joe   59.0     167        1998    male      Nan\n",
       "5   rose    Nan     159        2003  female  newyork"
      ]
     },
     "execution_count": 24,
     "metadata": {},
     "output_type": "execute_result"
    }
   ],
   "source": [
    "df = pd.DataFrame({ 'name': ['ana', 'dane', 'david', 'kevin', 'joe', 'rose'],\n",
    "'weight': [42.2, 50.2, 62.2, 64.0, 59.0, \"Nan\"],\n",
    "'height': [155, 160, 162, 170, 167, 159],\n",
    "'birth_year': [2000, 1997, 1996, 1987,1998, 2003],\n",
    "'gender': ['female', 'male','male','male','male', 'female'],\n",
    "'city': ['newyork', 'chicago', 'austin', 'newyork', 'Nan', 'newyork'],\n",
    "    \n",
    "    })\n",
    "df"
   ]
  },
  {
   "cell_type": "code",
   "execution_count": null,
   "id": "d3c5a8a9",
   "metadata": {},
   "outputs": [],
   "source": []
  }
 ],
 "metadata": {
  "kernelspec": {
   "display_name": "Python 3 (ipykernel)",
   "language": "python",
   "name": "python3"
  },
  "language_info": {
   "codemirror_mode": {
    "name": "ipython",
    "version": 3
   },
   "file_extension": ".py",
   "mimetype": "text/x-python",
   "name": "python",
   "nbconvert_exporter": "python",
   "pygments_lexer": "ipython3",
   "version": "3.9.7"
  }
 },
 "nbformat": 4,
 "nbformat_minor": 5
}
