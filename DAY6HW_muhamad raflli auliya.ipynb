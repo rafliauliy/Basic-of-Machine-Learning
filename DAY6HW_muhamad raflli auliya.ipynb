{
 "cells": [
  {
   "cell_type": "code",
   "execution_count": 1,
   "id": "8ea21607",
   "metadata": {},
   "outputs": [],
   "source": [
    "#Pandas DataFrame"
   ]
  },
  {
   "cell_type": "code",
   "execution_count": 2,
   "id": "c06307e2",
   "metadata": {
    "scrolled": true
   },
   "outputs": [
    {
     "data": {
      "text/html": [
       "<div>\n",
       "<style scoped>\n",
       "    .dataframe tbody tr th:only-of-type {\n",
       "        vertical-align: middle;\n",
       "    }\n",
       "\n",
       "    .dataframe tbody tr th {\n",
       "        vertical-align: top;\n",
       "    }\n",
       "\n",
       "    .dataframe thead th {\n",
       "        text-align: right;\n",
       "    }\n",
       "</style>\n",
       "<table border=\"1\" class=\"dataframe\">\n",
       "  <thead>\n",
       "    <tr style=\"text-align: right;\">\n",
       "      <th></th>\n",
       "      <th>name</th>\n",
       "      <th>weight</th>\n",
       "      <th>height</th>\n",
       "      <th>birth_year</th>\n",
       "      <th>gender</th>\n",
       "      <th>city</th>\n",
       "    </tr>\n",
       "  </thead>\n",
       "  <tbody>\n",
       "  </tbody>\n",
       "</table>\n",
       "</div>"
      ],
      "text/plain": [
       "Empty DataFrame\n",
       "Columns: [name, weight, height, birth_year, gender, city]\n",
       "Index: []"
      ]
     },
     "execution_count": 2,
     "metadata": {},
     "output_type": "execute_result"
    }
   ],
   "source": [
    "import pandas as pd\n",
    "df = pd.DataFrame(columns=[\"name\", \"weight\", \"height\", \"birth_year\", \"gender\", \"city\"])\n",
    "\n",
    "df"
   ]
  },
  {
   "cell_type": "code",
   "execution_count": 3,
   "id": "ef5e093e",
   "metadata": {},
   "outputs": [
    {
     "data": {
      "text/html": [
       "<div>\n",
       "<style scoped>\n",
       "    .dataframe tbody tr th:only-of-type {\n",
       "        vertical-align: middle;\n",
       "    }\n",
       "\n",
       "    .dataframe tbody tr th {\n",
       "        vertical-align: top;\n",
       "    }\n",
       "\n",
       "    .dataframe thead th {\n",
       "        text-align: right;\n",
       "    }\n",
       "</style>\n",
       "<table border=\"1\" class=\"dataframe\">\n",
       "  <thead>\n",
       "    <tr style=\"text-align: right;\">\n",
       "      <th></th>\n",
       "      <th>name</th>\n",
       "      <th>weight</th>\n",
       "      <th>height</th>\n",
       "      <th>birth_year</th>\n",
       "      <th>gender</th>\n",
       "      <th>city</th>\n",
       "    </tr>\n",
       "  </thead>\n",
       "  <tbody>\n",
       "    <tr>\n",
       "      <th>0</th>\n",
       "      <td>ana</td>\n",
       "      <td>42.2</td>\n",
       "      <td>155</td>\n",
       "      <td>2000</td>\n",
       "      <td>female</td>\n",
       "      <td>newyork</td>\n",
       "    </tr>\n",
       "    <tr>\n",
       "      <th>1</th>\n",
       "      <td>dane</td>\n",
       "      <td>50.5</td>\n",
       "      <td>160</td>\n",
       "      <td>1997</td>\n",
       "      <td>male</td>\n",
       "      <td>chicago</td>\n",
       "    </tr>\n",
       "    <tr>\n",
       "      <th>2</th>\n",
       "      <td>david</td>\n",
       "      <td>62.1</td>\n",
       "      <td>162</td>\n",
       "      <td>1996</td>\n",
       "      <td>male</td>\n",
       "      <td>austin</td>\n",
       "    </tr>\n",
       "    <tr>\n",
       "      <th>3</th>\n",
       "      <td>kevin</td>\n",
       "      <td>64.0</td>\n",
       "      <td>170</td>\n",
       "      <td>1987</td>\n",
       "      <td>male</td>\n",
       "      <td>newyork</td>\n",
       "    </tr>\n",
       "    <tr>\n",
       "      <th>4</th>\n",
       "      <td>joe</td>\n",
       "      <td>59.0</td>\n",
       "      <td>167</td>\n",
       "      <td>1998</td>\n",
       "      <td>male</td>\n",
       "      <td>Nan</td>\n",
       "    </tr>\n",
       "    <tr>\n",
       "      <th>5</th>\n",
       "      <td>rose</td>\n",
       "      <td>Nan</td>\n",
       "      <td>159</td>\n",
       "      <td>2003</td>\n",
       "      <td>female</td>\n",
       "      <td>newyork</td>\n",
       "    </tr>\n",
       "  </tbody>\n",
       "</table>\n",
       "</div>"
      ],
      "text/plain": [
       "    name weight height birth_year  gender     city\n",
       "0    ana   42.2    155       2000  female  newyork\n",
       "1   dane   50.5    160       1997    male  chicago\n",
       "2  david   62.1    162       1996    male   austin\n",
       "3  kevin   64.0    170       1987    male  newyork\n",
       "4    joe   59.0    167       1998    male      Nan\n",
       "5   rose    Nan    159       2003  female  newyork"
      ]
     },
     "execution_count": 3,
     "metadata": {},
     "output_type": "execute_result"
    }
   ],
   "source": [
    "df.loc[0] = [\"ana\", 42.2, 155, 2000, \"female\", \"newyork\"]\n",
    "df.loc[1] = [\"dane\", 50.5, 160, 1997, \"male\", \"chicago\"]\n",
    "df.loc[2] = [\"david\", 62.1, 162, 1996, \"male\", \"austin\"]\n",
    "df.loc[3] = [\"kevin\", 64.0, 170, 1987, \"male\", \"newyork\"]\n",
    "df.loc[4] = [\"joe\", 59.0, 167, 1998, \"male\", \"Nan\"]\n",
    "df.loc[5] = [\"rose\", \"Nan\", 159, 2003, \"female\", \"newyork\"]\n",
    "\n",
    "df"
   ]
  },
  {
   "cell_type": "code",
   "execution_count": null,
   "id": "c10ecf68",
   "metadata": {},
   "outputs": [],
   "source": [
    "#Create another Pandas DataFrame as the following and merge it with the previous "
   ]
  },
  {
   "cell_type": "code",
   "execution_count": null,
   "id": "276e9492",
   "metadata": {},
   "outputs": [],
   "source": [
    "df = pd.DataFrame(columns=[\"nick_name\", \"full_name\"])\n",
    "\n",
    "df"
   ]
  },
  {
   "cell_type": "code",
   "execution_count": null,
   "id": "8db642f4",
   "metadata": {
    "scrolled": false
   },
   "outputs": [],
   "source": [
    "df.loc[0] = [\"ana\", \"ana levis\"]\n",
    "df.loc[1] = [\"dane\", \"dane michiel\"]\n",
    "df.loc[2] = [\"david\", \"david john\"]\n",
    "df.loc[3] = [\"kevin\", \"kevin julio\"]\n",
    "df.loc[4] = [\"joe\", \"joe taslim\"]\n",
    "df.loc[5] = [\"rose\", \"rose diana\"]\n",
    "\n",
    "df"
   ]
  },
  {
   "cell_type": "code",
   "execution_count": null,
   "id": "e28e4a95",
   "metadata": {},
   "outputs": [],
   "source": [
    "#Drop nick_name column and fill null values in the full_name from the merged \n",
    "DataFrame with their original name column."
   ]
  },
  {
   "cell_type": "code",
   "execution_count": null,
   "id": "4f3893f9",
   "metadata": {},
   "outputs": [],
   "source": [
    "df = pd.DataFrame({\n",
    "    \"full_name\": [\"ana levis\",  \"dane michiel\", \"david john\", \"kevin julio\", \"joe taslim\", \"rose diana\"],\n",
    "    \"nick_name\": [\"ana\", \"dane\", \"david\", \"kevin\", \"joe\", \"rose\"],\n",
    "    'weight': [42.2, 50.2, 62.2, 64.0, 59.0, \"Nan\"],\n",
    "    \"height\": [155, 160, 162, 170, 167, 159],\n",
    "    \"birth_year\": [2000, 1997, 1996, 1987,1998, 2003],\n",
    "    \"gender\": ['female', 'male','male','male','male', 'female'],\n",
    "    \"city\": [\"newyork\", \"chicago\", \"austin\", \"newyork\", \"Nan\", \"newyork\"],\n",
    "    })\n",
    "df"
   ]
  },
  {
   "cell_type": "code",
   "execution_count": null,
   "id": "72c73ef2",
   "metadata": {},
   "outputs": [],
   "source": [
    "#Create a new ‘bmi’ column calculated based on the following formula"
   ]
  },
  {
   "cell_type": "code",
   "execution_count": null,
   "id": "d80362e4",
   "metadata": {},
   "outputs": [],
   "source": [
    "height = float(input('enter height in  inches:'))\n",
    "weight = float(input('enter weight in lbs:'))"
   ]
  },
  {
   "cell_type": "code",
   "execution_count": null,
   "id": "fc0acbcd",
   "metadata": {},
   "outputs": [],
   "source": [
    "def BMI(height,weight):\n",
    "    bmi = weight/(height**2)* 703\n",
    "    if (bmi < 16):\n",
    "        return'severely uderweight',bmi\n",
    "    \n",
    "    elif (bmi >= 16 and bmi < 18.5):\n",
    "        return 'underweight', bmi\n",
    "    \n",
    "    elif (bmi >= 18.5 and bmi < 25):\n",
    "        return 'healthy'bmi\n",
    "    \n",
    "    elif (bmi >= 25 and bmi < 30):\n",
    "        return 'overweight', bmi\n",
    "        \n",
    "    elif (bmi >= 30):\n",
    "        return 'obese', bmi\n",
    "    \n",
    "    \n",
    "    quote, bmi = BMI(height, weight)\n",
    "    print('your bmi is :{} and you are :{}'.format(bmi, quote)"
   ]
  },
  {
   "cell_type": "code",
   "execution_count": null,
   "id": "287d0fdc",
   "metadata": {},
   "outputs": [],
   "source": [
    "#Create a new ‘bmi_class’ column following the definition in the table below. "
   ]
  },
  {
   "cell_type": "code",
   "execution_count": null,
   "id": "d31748c6",
   "metadata": {},
   "outputs": [],
   "source": [
    "df = pd.DataFrame(columns=[\"BMI\", \"class\"])\n",
    "\n",
    "df"
   ]
  },
  {
   "cell_type": "code",
   "execution_count": null,
   "id": "a598f48d",
   "metadata": {},
   "outputs": [],
   "source": [
    "df.loc[0] = [\"<18.5\", \"underweight\"]\n",
    "df.loc[1] = [\"18.5<=BMI<25\", \"normalweight\"]\n",
    "df.loc[2] = [\"25<BMI<30\", \"overweight\"]\n",
    "df.loc[3] = [\"30<BMI<35\", \"obesity class 1\"]\n",
    "df.loc[4] = [\"35<BMI<40\", \"obesity class 2\"]\n",
    "df.loc[5] = [\">=\", \"obesity class 3\"]\n",
    "\n",
    "df"
   ]
  }
 ],
 "metadata": {
  "kernelspec": {
   "display_name": "Python 3 (ipykernel)",
   "language": "python",
   "name": "python3"
  },
  "language_info": {
   "codemirror_mode": {
    "name": "ipython",
    "version": 3
   },
   "file_extension": ".py",
   "mimetype": "text/x-python",
   "name": "python",
   "nbconvert_exporter": "python",
   "pygments_lexer": "ipython3",
   "version": "3.9.7"
  }
 },
 "nbformat": 4,
 "nbformat_minor": 5
}
