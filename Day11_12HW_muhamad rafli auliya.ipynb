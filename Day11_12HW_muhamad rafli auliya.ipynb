{
 "cells": [
  {
   "cell_type": "markdown",
   "id": "fd5792f4",
   "metadata": {},
   "source": [
    "## Welcome to Day 11 - Homework!"
   ]
  },
  {
   "cell_type": "markdown",
   "id": "229aeeee",
   "metadata": {},
   "source": [
    "### Soal:\n",
    "\n",
    "1. Perhatikan kolom 'Currency' dan 'Annual_Price'. Buatlah kolom baru bernama `CleanedPrice`. Kolom ini dibuat berdasarkan informasi dari 'Annual_Price' dan 'Currency', sehingga harga sewa tahunan di `CleanedPrice` memiliki mata uang yang sama, yaitu IDR (Rupiah). Gunakan Asumsi 1 USD = 15 000 IDR.\n",
    "2. Analisalah kolom 'No_Rooms' dan 'CleanedPrice'. Apakah ada kejanggalan? Jika ya, nyatakanlah apa yang membuat data-data tersebut janggal. Kemudian, perbaikilah (jika hal tersebut dapat dilakukan). Jika Anda tidak memilih untuk memperbaikinya, maka apa yang sebaiknya dilakukan pada baris-baris tersebut? \n",
    "3. Apartemen di Kota/Kabupaten mana yang memiliki rata-rata harga paling tinggi? Buatlah visualisasi untuk mendukung klaim Anda. \n",
    "4. Analisalah kolom 'Longitude' dan 'Latitude'. Apakah ada kejanggalan? Jika ya, nyatakanlah apa yang membuat data-data tersebut janggal. Ada kejanggalan yang ***bisa dijelaskan***, sehingga data tersebut meskipun janggal tapi sah-sah saja, dan ada pula kejanggalan yang ***salah***, sehingga data tersebut harus diperbaiki. Kejanggalan tipe apa yang muncul di kolom 'Longitude' dan 'Latitude'? Bila kejanggalan tersebut bisa dijelaskan, maka jelaskanlah. Bila kejanggalan tersebut merupakan sebuah kesalahan, maka coba perbaikilah. "
   ]
  },
  {
   "cell_type": "markdown",
   "id": "1cc18475",
   "metadata": {},
   "source": [
    "Penjelasan:\n",
    "1. Unit_Name: Nama Unit Apartmen\n",
    "2. No_Rooms: Jumlah bedrooms\n",
    "3. Bathroom: Jumlah kamar mandi\n",
    "4. Locality: Daerah\n",
    "5. Region: Kota/Kabupaten\n",
    "6. Longitude dan Latitude: letak geografis\n",
    "7. Furnished: 1 jika fully furnished, 0 jika non-furnished\n",
    "8. Area: Luas\n",
    "9. Tower: Lokasi Tower\n",
    "10. Total_Facilities: Jumlah Total Fasilitas\n",
    "11. Currency: Mata Uang (USD/IDR)\n",
    "12. Annual_Price: Harga sewa tahunan (sesuai mata uang)"
   ]
  },
  {
   "cell_type": "code",
   "execution_count": 2,
   "id": "c42cc702",
   "metadata": {},
   "outputs": [],
   "source": [
    "import pandas as pd\n",
    "import numpy as np\n",
    "import matplotlib.pyplot as plt\n",
    "import seaborn as sns\n",
    "sns.set(color_codes=True)"
   ]
  },
  {
   "cell_type": "code",
   "execution_count": 4,
   "id": "c17d1d89",
   "metadata": {},
   "outputs": [],
   "source": [
    "df = pd.read_csv('housepricesdata.csv')"
   ]
  },
  {
   "cell_type": "code",
   "execution_count": 5,
   "id": "125bf4d4",
   "metadata": {},
   "outputs": [
    {
     "data": {
      "text/html": [
       "<div>\n",
       "<style scoped>\n",
       "    .dataframe tbody tr th:only-of-type {\n",
       "        vertical-align: middle;\n",
       "    }\n",
       "\n",
       "    .dataframe tbody tr th {\n",
       "        vertical-align: top;\n",
       "    }\n",
       "\n",
       "    .dataframe thead th {\n",
       "        text-align: right;\n",
       "    }\n",
       "</style>\n",
       "<table border=\"1\" class=\"dataframe\">\n",
       "  <thead>\n",
       "    <tr style=\"text-align: right;\">\n",
       "      <th></th>\n",
       "      <th>Unit_Name</th>\n",
       "      <th>No_Rooms</th>\n",
       "      <th>Bathroom</th>\n",
       "      <th>Locality</th>\n",
       "      <th>Region</th>\n",
       "      <th>Longitude</th>\n",
       "      <th>Latitude</th>\n",
       "      <th>Furnished</th>\n",
       "      <th>Area</th>\n",
       "      <th>Tower</th>\n",
       "      <th>Total_Facilities</th>\n",
       "      <th>Currency</th>\n",
       "      <th>Annual_Price</th>\n",
       "    </tr>\n",
       "  </thead>\n",
       "  <tbody>\n",
       "    <tr>\n",
       "      <th>0</th>\n",
       "      <td>Taman Sari Semanggi Apartment 1BR Tower A</td>\n",
       "      <td>1</td>\n",
       "      <td>1</td>\n",
       "      <td>Semanggi</td>\n",
       "      <td>Jakarta Selatan</td>\n",
       "      <td>106.819159</td>\n",
       "      <td>-6.226598</td>\n",
       "      <td>1</td>\n",
       "      <td>43.0</td>\n",
       "      <td>Tower A</td>\n",
       "      <td>23</td>\n",
       "      <td>IDR</td>\n",
       "      <td>96000000</td>\n",
       "    </tr>\n",
       "    <tr>\n",
       "      <th>1</th>\n",
       "      <td>Puri Park View Apartment 2BR Semi Furnished</td>\n",
       "      <td>2</td>\n",
       "      <td>1</td>\n",
       "      <td>Kebon Jeruk</td>\n",
       "      <td>Jakarta Barat</td>\n",
       "      <td>106.756061</td>\n",
       "      <td>-6.192081</td>\n",
       "      <td>0</td>\n",
       "      <td>35.0</td>\n",
       "      <td>Tower CB</td>\n",
       "      <td>19</td>\n",
       "      <td>IDR</td>\n",
       "      <td>30000000</td>\n",
       "    </tr>\n",
       "    <tr>\n",
       "      <th>2</th>\n",
       "      <td>Metro Park Residence 2BR Fully Furnished</td>\n",
       "      <td>2</td>\n",
       "      <td>1</td>\n",
       "      <td>Kedoya</td>\n",
       "      <td>Jakarta Barat</td>\n",
       "      <td>106.757651</td>\n",
       "      <td>-6.186415</td>\n",
       "      <td>1</td>\n",
       "      <td>53.0</td>\n",
       "      <td>Tower Milan</td>\n",
       "      <td>22</td>\n",
       "      <td>IDR</td>\n",
       "      <td>70000000</td>\n",
       "    </tr>\n",
       "    <tr>\n",
       "      <th>3</th>\n",
       "      <td>Pondok Indah Golf Apartment 2BR View Golf Area</td>\n",
       "      <td>2</td>\n",
       "      <td>2</td>\n",
       "      <td>Pondok Indah</td>\n",
       "      <td>Jakarta Selatan</td>\n",
       "      <td>106.784600</td>\n",
       "      <td>-6.272637</td>\n",
       "      <td>1</td>\n",
       "      <td>85.0</td>\n",
       "      <td>Tower -</td>\n",
       "      <td>24</td>\n",
       "      <td>IDR</td>\n",
       "      <td>576000000</td>\n",
       "    </tr>\n",
       "    <tr>\n",
       "      <th>4</th>\n",
       "      <td>Season City Apartment 2BR Tower C</td>\n",
       "      <td>2</td>\n",
       "      <td>1</td>\n",
       "      <td>Grogol</td>\n",
       "      <td>Jakarta Barat</td>\n",
       "      <td>106.796056</td>\n",
       "      <td>-6.153652</td>\n",
       "      <td>0</td>\n",
       "      <td>48.0</td>\n",
       "      <td>Tower C</td>\n",
       "      <td>15</td>\n",
       "      <td>IDR</td>\n",
       "      <td>32000000</td>\n",
       "    </tr>\n",
       "  </tbody>\n",
       "</table>\n",
       "</div>"
      ],
      "text/plain": [
       "                                        Unit_Name  No_Rooms  Bathroom  \\\n",
       "0       Taman Sari Semanggi Apartment 1BR Tower A         1         1   \n",
       "1     Puri Park View Apartment 2BR Semi Furnished         2         1   \n",
       "2        Metro Park Residence 2BR Fully Furnished         2         1   \n",
       "3  Pondok Indah Golf Apartment 2BR View Golf Area         2         2   \n",
       "4               Season City Apartment 2BR Tower C         2         1   \n",
       "\n",
       "       Locality           Region   Longitude  Latitude  Furnished  Area  \\\n",
       "0      Semanggi  Jakarta Selatan  106.819159 -6.226598          1  43.0   \n",
       "1   Kebon Jeruk    Jakarta Barat  106.756061 -6.192081          0  35.0   \n",
       "2        Kedoya    Jakarta Barat  106.757651 -6.186415          1  53.0   \n",
       "3  Pondok Indah  Jakarta Selatan  106.784600 -6.272637          1  85.0   \n",
       "4        Grogol    Jakarta Barat  106.796056 -6.153652          0  48.0   \n",
       "\n",
       "         Tower  Total_Facilities Currency  Annual_Price  \n",
       "0      Tower A                23      IDR      96000000  \n",
       "1     Tower CB                19      IDR      30000000  \n",
       "2  Tower Milan                22      IDR      70000000  \n",
       "3      Tower -                24      IDR     576000000  \n",
       "4      Tower C                15      IDR      32000000  "
      ]
     },
     "execution_count": 5,
     "metadata": {},
     "output_type": "execute_result"
    }
   ],
   "source": [
    "df.head()"
   ]
  },
  {
   "cell_type": "code",
   "execution_count": 6,
   "id": "4216572c",
   "metadata": {
    "scrolled": false
   },
   "outputs": [
    {
     "name": "stdout",
     "output_type": "stream",
     "text": [
      "<class 'pandas.core.frame.DataFrame'>\n",
      "RangeIndex: 5303 entries, 0 to 5302\n",
      "Data columns (total 13 columns):\n",
      " #   Column            Non-Null Count  Dtype  \n",
      "---  ------            --------------  -----  \n",
      " 0   Unit_Name         5302 non-null   object \n",
      " 1   No_Rooms          5303 non-null   int64  \n",
      " 2   Bathroom          5303 non-null   int64  \n",
      " 3   Locality          5303 non-null   object \n",
      " 4   Region            5303 non-null   object \n",
      " 5   Longitude         5303 non-null   float64\n",
      " 6   Latitude          5303 non-null   float64\n",
      " 7   Furnished         5303 non-null   int64  \n",
      " 8   Area              5303 non-null   float64\n",
      " 9   Tower             5303 non-null   object \n",
      " 10  Total_Facilities  5303 non-null   int64  \n",
      " 11  Currency          5303 non-null   object \n",
      " 12  Annual_Price      5303 non-null   int64  \n",
      "dtypes: float64(3), int64(5), object(5)\n",
      "memory usage: 538.7+ KB\n"
     ]
    }
   ],
   "source": [
    "df.info()"
   ]
  },
  {
   "cell_type": "code",
   "execution_count": null,
   "id": "d592aad4",
   "metadata": {},
   "outputs": [],
   "source": [
    "#No 1"
   ]
  },
  {
   "cell_type": "code",
   "execution_count": 34,
   "id": "acb9db0e",
   "metadata": {
    "scrolled": true
   },
   "outputs": [
    {
     "data": {
      "text/html": [
       "<div>\n",
       "<style scoped>\n",
       "    .dataframe tbody tr th:only-of-type {\n",
       "        vertical-align: middle;\n",
       "    }\n",
       "\n",
       "    .dataframe tbody tr th {\n",
       "        vertical-align: top;\n",
       "    }\n",
       "\n",
       "    .dataframe thead th {\n",
       "        text-align: right;\n",
       "    }\n",
       "</style>\n",
       "<table border=\"1\" class=\"dataframe\">\n",
       "  <thead>\n",
       "    <tr style=\"text-align: right;\">\n",
       "      <th></th>\n",
       "      <th>CleanedPrice</th>\n",
       "    </tr>\n",
       "  </thead>\n",
       "  <tbody>\n",
       "    <tr>\n",
       "      <th>0</th>\n",
       "      <td>idr 96000000</td>\n",
       "    </tr>\n",
       "    <tr>\n",
       "      <th>1</th>\n",
       "      <td>idr 30000000</td>\n",
       "    </tr>\n",
       "    <tr>\n",
       "      <th>2</th>\n",
       "      <td>idr 70000000</td>\n",
       "    </tr>\n",
       "    <tr>\n",
       "      <th>3</th>\n",
       "      <td>idr 576000000</td>\n",
       "    </tr>\n",
       "    <tr>\n",
       "      <th>4</th>\n",
       "      <td>idr 32000000</td>\n",
       "    </tr>\n",
       "    <tr>\n",
       "      <th>5</th>\n",
       "      <td>idr 36000000</td>\n",
       "    </tr>\n",
       "    <tr>\n",
       "      <th>6</th>\n",
       "      <td>idr 60000000</td>\n",
       "    </tr>\n",
       "    <tr>\n",
       "      <th>7</th>\n",
       "      <td>idr 250000000</td>\n",
       "    </tr>\n",
       "    <tr>\n",
       "      <th>8</th>\n",
       "      <td>idr 108000000</td>\n",
       "    </tr>\n",
       "    <tr>\n",
       "      <th>9</th>\n",
       "      <td>idr 108000000</td>\n",
       "    </tr>\n",
       "  </tbody>\n",
       "</table>\n",
       "</div>"
      ],
      "text/plain": [
       "    CleanedPrice\n",
       "0   idr 96000000\n",
       "1   idr 30000000\n",
       "2   idr 70000000\n",
       "3  idr 576000000\n",
       "4   idr 32000000\n",
       "5   idr 36000000\n",
       "6   idr 60000000\n",
       "7  idr 250000000\n",
       "8  idr 108000000\n",
       "9  idr 108000000"
      ]
     },
     "execution_count": 34,
     "metadata": {},
     "output_type": "execute_result"
    }
   ],
   "source": [
    "\n",
    "\n",
    "df = pd.DataFrame({\n",
    "    'CleanedPrice':['idr 96000000', 'idr 30000000', 'idr 70000000', 'idr 576000000', 'idr 32000000', 'idr 36000000', 'idr 60000000', 'idr 250000000', 'idr 108000000', 'idr 108000000'],\n",
    "    \n",
    "})\n",
    "\n",
    "df"
   ]
  },
  {
   "cell_type": "code",
   "execution_count": 35,
   "id": "cfee3f5c",
   "metadata": {},
   "outputs": [],
   "source": [
    "#no 2"
   ]
  },
  {
   "cell_type": "code",
   "execution_count": null,
   "id": "e94cb252",
   "metadata": {},
   "outputs": [],
   "source": [
    "kolom no_rooms mengalami kejanggalan karena terdapa nilai 0 atau Nan sedangkan pada cleannedPricenya,\n",
    "sendiri tersedia harga idrnya jadi ditemukan missing value pada kolom no_rooms dan tidak akan saya ubah\n",
    "karena pada dasarnya itu sudah hak mutlak pemberi data. "
   ]
  },
  {
   "cell_type": "code",
   "execution_count": null,
   "id": "eae94286",
   "metadata": {},
   "outputs": [],
   "source": [
    "#no 3"
   ]
  },
  {
   "cell_type": "code",
   "execution_count": 10,
   "id": "ea50cce4",
   "metadata": {
    "scrolled": true
   },
   "outputs": [
    {
     "name": "stderr",
     "output_type": "stream",
     "text": [
      "C:\\Users\\ACER PC\\anaconda3\\lib\\site-packages\\seaborn\\_decorators.py:36: FutureWarning: Pass the following variables as keyword args: x, y. From version 0.12, the only valid positional argument will be `data`, and passing other arguments without an explicit keyword will result in an error or misinterpretation.\n",
      "  warnings.warn(\n"
     ]
    },
    {
     "data": {
      "text/plain": [
       "<AxesSubplot:xlabel='Currency', ylabel='Annual_Price'>"
      ]
     },
     "execution_count": 10,
     "metadata": {},
     "output_type": "execute_result"
    },
    {
     "data": {
      "image/png": "[encoded data removed]",
      "text/plain": [
       "<Figure size 432x288 with 1 Axes>"
      ]
     },
     "metadata": {},
     "output_type": "display_data"
    }
   ],
   "source": [
    "sns.barplot(df['Currency'], df['Annual_Price'])"
   ]
  },
  {
   "cell_type": "code",
   "execution_count": 12,
   "id": "d9f2859b",
   "metadata": {},
   "outputs": [
    {
     "name": "stderr",
     "output_type": "stream",
     "text": [
      "C:\\Users\\ACER PC\\anaconda3\\lib\\site-packages\\seaborn\\_decorators.py:36: FutureWarning: Pass the following variable as a keyword arg: x. From version 0.12, the only valid positional argument will be `data`, and passing other arguments without an explicit keyword will result in an error or misinterpretation.\n",
      "  warnings.warn(\n"
     ]
    },
    {
     "data": {
      "text/plain": [
       "<AxesSubplot:xlabel='Annual_Price', ylabel='count'>"
      ]
     },
     "execution_count": 12,
     "metadata": {},
     "output_type": "execute_result"
    },
    {
     "data": {
      "image/png": "[encoded data removed]",
      "text/plain": [
       "<Figure size 432x288 with 1 Axes>"
      ]
     },
     "metadata": {},
     "output_type": "display_data"
    }
   ],
   "source": [
    "sns.countplot(df['Annual_Price'])"
   ]
  },
  {
   "cell_type": "code",
   "execution_count": 15,
   "id": "a0a0a91e",
   "metadata": {},
   "outputs": [
    {
     "data": {
      "text/plain": [
       "<AxesSubplot:xlabel='Annual_Price', ylabel='Density'>"
      ]
     },
     "execution_count": 15,
     "metadata": {},
     "output_type": "execute_result"
    },
    {
     "data": {
      "image/png": "[encoded data removed]",
      "text/plain": [
       "<Figure size 432x288 with 1 Axes>"
      ]
     },
     "metadata": {},
     "output_type": "display_data"
    }
   ],
   "source": [
    "sns.distplot(df['Annual_Price'])"
   ]
  },
  {
   "cell_type": "code",
   "execution_count": 16,
   "id": "f4f348c0",
   "metadata": {},
   "outputs": [
    {
     "name": "stderr",
     "output_type": "stream",
     "text": [
      "C:\\Users\\ACER PC\\anaconda3\\lib\\site-packages\\seaborn\\_decorators.py:36: FutureWarning: Pass the following variables as keyword args: x, y. From version 0.12, the only valid positional argument will be `data`, and passing other arguments without an explicit keyword will result in an error or misinterpretation.\n",
      "  warnings.warn(\n"
     ]
    },
    {
     "data": {
      "text/plain": [
       "<seaborn.axisgrid.JointGrid at 0x1bb80482c40>"
      ]
     },
     "execution_count": 16,
     "metadata": {},
     "output_type": "execute_result"
    },
    {
     "data": {
      "image/png": "[encoded data removed]",
      "text/plain": [
       "<Figure size 432x432 with 3 Axes>"
      ]
     },
     "metadata": {},
     "output_type": "display_data"
    }
   ],
   "source": [
    "sns.jointplot(df['Annual_Price'], df['Currency'])"
   ]
  },
  {
   "cell_type": "code",
   "execution_count": null,
   "id": "90d28a58",
   "metadata": {},
   "outputs": [],
   "source": [
    "#no 4"
   ]
  },
  {
   "cell_type": "code",
   "execution_count": null,
   "id": "ec1c6313",
   "metadata": {},
   "outputs": [],
   "source": [
    "saya rasa pada kolom 'longitude' dan 'latitude' tidak mengalami kejanggalan karena semua sudah sesuai pada \n",
    "dataset berdasarkan sumber yang diberikan adapun cara untuk menangani kejanggalan seperti missing value dan\n",
    "lainya dan jika diperlukan kita dapat mengubah Nan degan angka 0 atau string kosong berdasarkan kebutuhanya\n",
    "dan bagaimana cara menemukan missing value ? jawabanya : add 3 nomer yang anda ketahui,\n",
    "Kalikan rata-rata 73 dengan 5 (angka yang Anda miliki), Tambahkan angka yang diberikan kepada Anda,\n",
    "Kurangi jumlah yang Anda miliki dari jumlah total untuk menemukan nomor Anda yang hilang.\n",
    "itulah beberapa cara jika mengalami missing value pada dataset yang kita miliki."
   ]
  }
 ],
 "metadata": {
  "kernelspec": {
   "display_name": "Python 3 (ipykernel)",
   "language": "python",
   "name": "python3"
  },
  "language_info": {
   "codemirror_mode": {
    "name": "ipython",
    "version": 3
   },
   "file_extension": ".py",
   "mimetype": "text/x-python",
   "name": "python",
   "nbconvert_exporter": "python",
   "pygments_lexer": "ipython3",
   "version": "3.9.7"
  }
 },
 "nbformat": 4,
 "nbformat_minor": 5
}
