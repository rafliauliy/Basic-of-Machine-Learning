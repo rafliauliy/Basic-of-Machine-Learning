{
 "cells": [
  {
   "cell_type": "code",
   "execution_count": null,
   "id": "7c49a212-e2f5-456c-93a1-3dee4c033995",
   "metadata": {},
   "outputs": [],
   "source": [
    "import pandas as pd\n",
    "import numpy as np"
   ]
  },
  {
   "cell_type": "code",
   "execution_count": null,
   "id": "12d18189-7a6e-49df-96d8-93cfe44de7b5",
   "metadata": {},
   "outputs": [],
   "source": [
    "df = pd.DataFrame({\n",
    "    \"cust_id\": [\"C1\", \"C2\", \"C3\", \"C4\", \"C5\"],\n",
    "    \"item_bought\": [10,15,20,35,4],\n",
    "    \"city\": [\"Bandung\", \"Jakarta\", \"Bogor\", \"Tangerang\", \"Bali\"]\n",
    "    })\n",
    "df"
   ]
  },
  {
   "cell_type": "code",
   "execution_count": null,
   "id": "ae52f78f-9724-44f6-a536-13ef11cfa0bb",
   "metadata": {},
   "outputs": [],
   "source": [
    "df[\"cust_id\"]"
   ]
  },
  {
   "cell_type": "code",
   "execution_count": null,
   "id": "d3d58f38-66f8-440a-8027-84321810e243",
   "metadata": {},
   "outputs": [],
   "source": [
    "df[\"item_bought\"]"
   ]
  },
  {
   "cell_type": "code",
   "execution_count": null,
   "id": "89e68f17-cb80-4955-8d47-f2b75e954072",
   "metadata": {},
   "outputs": [],
   "source": [
    "df[\"city\"]"
   ]
  },
  {
   "cell_type": "code",
   "execution_count": null,
   "id": "42c9cc4d-c0ac-4341-a41e-acc9429b0983",
   "metadata": {},
   "outputs": [],
   "source": [
    "#Creating DataFrame from List of Lists"
   ]
  },
  {
   "cell_type": "code",
   "execution_count": null,
   "id": "1d7d20be-870a-432c-ad4a-00c3fd5bf0ff",
   "metadata": {},
   "outputs": [],
   "source": [
    "df = pd.DataFrame([[\"C1\", 10, \"Bandung\"],\n",
    "                  [\"C2\", 15, \"Jakarta\"],\n",
    "                  [\"C3\", 20, \"Bogor\"],\n",
    "                  [\"C4\", 35, \"Tangerang\"],\n",
    "                  [\"C5\", 4, \"Bali\"]],\n",
    "                  columns = [\"cust_id\", \"item_bought\", \"city\"])\n",
    "df"
   ]
  },
  {
   "cell_type": "code",
   "execution_count": null,
   "id": "611c171b-56e2-4245-93a4-63ea465dd4b6",
   "metadata": {},
   "outputs": [],
   "source": [
    "#Creating DataFrame from Numpy Array"
   ]
  },
  {
   "cell_type": "code",
   "execution_count": null,
   "id": "e455e1df-4c5c-4a52-bb92-abe511ceb8e4",
   "metadata": {},
   "outputs": [],
   "source": [
    "df = pd.DataFrame(np.array([[\"C1\", 10, \"Bandung\"],\n",
    "                  [\"C2\", 15, \"Jakarta\"],\n",
    "                  [\"C3\", 20, \"Bogor\"],\n",
    "                  [\"C4\", 35, \"Tangerang\"],\n",
    "                  [\"C5\", 4, \"Bali\"]]),\n",
    "                  columns = [\"cust_id\", \"item_bought\", \"city\"])\n",
    "df"
   ]
  },
  {
   "cell_type": "code",
   "execution_count": null,
   "id": "21313d86-8609-4070-be95-df66345b3ae4",
   "metadata": {},
   "outputs": [],
   "source": [
    "#Creating DataFrame from Dictionary"
   ]
  },
  {
   "cell_type": "code",
   "execution_count": null,
   "id": "fb62ed5e-223a-4e4e-9740-2579a3cc874e",
   "metadata": {},
   "outputs": [],
   "source": [
    "df = pd.DataFrame({\n",
    "    \"cust_id\": [\"C1\", \"C2\", \"C3\", \"C4\", \"C5\"],\n",
    "    \"item_bought\": [10,15,20,35,4],\n",
    "    \"city\": [\"Bandung\", \"Jakarta\", \"Bogor\", \"Tangerang\", \"Bali\"]\n",
    "    })\n",
    "df"
   ]
  },
  {
   "cell_type": "code",
   "execution_count": null,
   "id": "aaef09f4-b824-45f9-b946-a5be8fa80ab3",
   "metadata": {},
   "outputs": [],
   "source": [
    "#Saving a Dataframe"
   ]
  },
  {
   "cell_type": "code",
   "execution_count": null,
   "id": "59607c80-d156-466d-8eb5-95354762a3eb",
   "metadata": {},
   "outputs": [],
   "source": [
    "df.to_csv(\"customer.csv\", index = False)\n",
    "df.to_excel(\"customer.xlsx\", index = False)"
   ]
  },
  {
   "cell_type": "code",
   "execution_count": null,
   "id": "6e2df290-0934-4ba2-9604-5748850e7c2c",
   "metadata": {},
   "outputs": [],
   "source": [
    "#Load a Dataframe"
   ]
  },
  {
   "cell_type": "code",
   "execution_count": null,
   "id": "4e3f62a2-8494-49a6-b59a-cc4e17e20f5d",
   "metadata": {},
   "outputs": [],
   "source": [
    "df = pd.read_csv(\"customer.csv\")\n",
    "df = pd.read_excel(\"customer.xlsx\")"
   ]
  },
  {
   "cell_type": "code",
   "execution_count": null,
   "id": "c497cc97-786b-4340-a9ca-4e2502c52a89",
   "metadata": {},
   "outputs": [],
   "source": [
    "#Summary Info"
   ]
  },
  {
   "cell_type": "code",
   "execution_count": null,
   "id": "d7943dea-3b24-4387-ac62-532137bbf2c0",
   "metadata": {},
   "outputs": [],
   "source": [
    "df.info()"
   ]
  },
  {
   "cell_type": "code",
   "execution_count": null,
   "id": "1a419223-bc4f-4acf-bfde-1007270a937f",
   "metadata": {},
   "outputs": [],
   "source": [
    "#Statistics of Numerical Columns"
   ]
  },
  {
   "cell_type": "code",
   "execution_count": null,
   "id": "8965b6d5-10e0-42de-82c8-ab857b10c9a9",
   "metadata": {},
   "outputs": [],
   "source": [
    "df.describe()"
   ]
  },
  {
   "cell_type": "code",
   "execution_count": null,
   "id": "f410fe12-947e-4a90-a341-5fb0b9b66179",
   "metadata": {},
   "outputs": [],
   "source": [
    "#Columns Name"
   ]
  },
  {
   "cell_type": "code",
   "execution_count": null,
   "id": "c99f6a4d-ca8a-4403-affc-40057ba58697",
   "metadata": {},
   "outputs": [],
   "source": [
    "df.columns"
   ]
  },
  {
   "cell_type": "code",
   "execution_count": null,
   "id": "0449650f-0362-415f-80b5-ecf1dc2aeafd",
   "metadata": {},
   "outputs": [],
   "source": [
    "#DataFrame length"
   ]
  },
  {
   "cell_type": "code",
   "execution_count": null,
   "id": "889e863a-4701-45ee-8736-82943c650ef0",
   "metadata": {},
   "outputs": [],
   "source": [
    "df.shape"
   ]
  },
  {
   "cell_type": "code",
   "execution_count": null,
   "id": "03dde147-f643-403c-9a45-967ae90d131c",
   "metadata": {},
   "outputs": [],
   "source": [
    "df.shape[0]"
   ]
  },
  {
   "cell_type": "code",
   "execution_count": null,
   "id": "93afb955-e962-42b8-93ff-30cbd1cf0b4e",
   "metadata": {},
   "outputs": [],
   "source": [
    "df.shape[1]"
   ]
  },
  {
   "cell_type": "code",
   "execution_count": null,
   "id": "d8c096d1-d558-4bfb-86e7-b23340b904bb",
   "metadata": {},
   "outputs": [],
   "source": [
    "#Values of a particular column"
   ]
  },
  {
   "cell_type": "code",
   "execution_count": null,
   "id": "5d2ae621-6b4b-42a0-a25f-ce1a37741bfd",
   "metadata": {},
   "outputs": [],
   "source": [
    "df[\"cust_id\"]"
   ]
  },
  {
   "cell_type": "code",
   "execution_count": null,
   "id": "b5b6719d-71c3-4c48-aaa1-b02a35f137e2",
   "metadata": {},
   "outputs": [],
   "source": [
    "#Values of several columns"
   ]
  },
  {
   "cell_type": "code",
   "execution_count": null,
   "id": "73443f14-b2c1-4741-b35f-08c1669d6338",
   "metadata": {},
   "outputs": [],
   "source": [
    "df[[\"cust_id\",\"city\"]]"
   ]
  },
  {
   "cell_type": "code",
   "execution_count": null,
   "id": "29ec13c8-f978-401e-a9fd-69ede5b31b56",
   "metadata": {},
   "outputs": [],
   "source": [
    "#First N rows"
   ]
  },
  {
   "cell_type": "code",
   "execution_count": null,
   "id": "152c7fac-d0b2-41bd-93ce-b61332a5d75a",
   "metadata": {},
   "outputs": [],
   "source": [
    "df.head()"
   ]
  },
  {
   "cell_type": "code",
   "execution_count": null,
   "id": "4c0672b6-28fc-4308-a3b2-c871c56f8767",
   "metadata": {},
   "outputs": [],
   "source": [
    "df.head(2)"
   ]
  },
  {
   "cell_type": "code",
   "execution_count": null,
   "id": "7cff7746-ed08-48f8-87bd-e346e6755e2c",
   "metadata": {},
   "outputs": [],
   "source": [
    "#Last N rows"
   ]
  },
  {
   "cell_type": "code",
   "execution_count": null,
   "id": "4820aa5d-65e3-4c04-a381-65e4bacaf9ef",
   "metadata": {},
   "outputs": [],
   "source": [
    "df.tail()"
   ]
  },
  {
   "cell_type": "code",
   "execution_count": null,
   "id": "4f8c7e0f-0bcd-4a9d-9999-15cfa68b762c",
   "metadata": {},
   "outputs": [],
   "source": [
    "df.tail(2)"
   ]
  },
  {
   "cell_type": "code",
   "execution_count": null,
   "id": "98b1e586-e73f-4d5f-bbd5-c40fc4196809",
   "metadata": {},
   "outputs": [],
   "source": [
    "#Random N Rows"
   ]
  },
  {
   "cell_type": "code",
   "execution_count": null,
   "id": "4337a120-9828-43bf-a68c-1bd72a4936c6",
   "metadata": {},
   "outputs": [],
   "source": [
    "df.sample()"
   ]
  },
  {
   "cell_type": "code",
   "execution_count": null,
   "id": "1b03d393-dfd3-417a-9ccf-18c3e538cdc7",
   "metadata": {},
   "outputs": [],
   "source": [
    "df.sample(3)"
   ]
  },
  {
   "cell_type": "code",
   "execution_count": null,
   "id": "2b69d46f-f9fd-419c-99e6-b9b121a60fd7",
   "metadata": {},
   "outputs": [],
   "source": [
    "#Reordering Columns"
   ]
  },
  {
   "cell_type": "code",
   "execution_count": null,
   "id": "353c1cb0-682c-407b-a785-f0b4d3552cce",
   "metadata": {},
   "outputs": [],
   "source": [
    "df = df[[\"item_bought\", \"city\", \"cust_id\"]]\n",
    "df"
   ]
  },
  {
   "cell_type": "code",
   "execution_count": null,
   "id": "b5d2271a-4d38-466d-8f8f-2b68e3d84644",
   "metadata": {},
   "outputs": [],
   "source": [
    "df = df.reindex(columns=[\"item_bought\", \"city\", \"cust_id\"])\n",
    "df"
   ]
  },
  {
   "cell_type": "code",
   "execution_count": null,
   "id": "19a80232-569e-492e-83aa-7ae1e57bf9c7",
   "metadata": {},
   "outputs": [],
   "source": [
    "#Get the value of specific row and column (via its name)"
   ]
  },
  {
   "cell_type": "code",
   "execution_count": null,
   "id": "f353b265-5e71-443e-a655-43e34a820948",
   "metadata": {},
   "outputs": [],
   "source": [
    "df.loc[0,\"item_bought\"]"
   ]
  },
  {
   "cell_type": "code",
   "execution_count": null,
   "id": "878c1d48-b135-4025-8b11-c16137f516a9",
   "metadata": {},
   "outputs": [],
   "source": [
    "df.loc[3,\"city\"]"
   ]
  },
  {
   "cell_type": "code",
   "execution_count": null,
   "id": "cf9536c8-cd6a-4cb5-82eb-31c2cc81293f",
   "metadata": {},
   "outputs": [],
   "source": [
    "#Get the value of specific row and column (via its index num)"
   ]
  },
  {
   "cell_type": "code",
   "execution_count": null,
   "id": "40464cb3-4d05-465b-9bea-95b666ed66f3",
   "metadata": {},
   "outputs": [],
   "source": [
    "df.iloc[0,0]"
   ]
  },
  {
   "cell_type": "code",
   "execution_count": null,
   "id": "40ddebfd-960b-4608-ad0e-3310a2e63105",
   "metadata": {},
   "outputs": [],
   "source": [
    "df.iloc[3,1]"
   ]
  },
  {
   "cell_type": "code",
   "execution_count": null,
   "id": "13aa332d-1d97-4554-aabe-b1034dfeabfc",
   "metadata": {},
   "outputs": [],
   "source": [
    "#Get the specific ranges of rows and columns (via its name)"
   ]
  },
  {
   "cell_type": "code",
   "execution_count": null,
   "id": "6ad51dbd-3ad9-47b4-af45-460f564e8654",
   "metadata": {},
   "outputs": [],
   "source": [
    "df.loc[0:2,[\"item_bought\",\"city\"]]"
   ]
  },
  {
   "cell_type": "code",
   "execution_count": null,
   "id": "4aec2e1b-f347-479a-9919-55aeabf0768b",
   "metadata": {},
   "outputs": [],
   "source": [
    "#Get the specific ranges of rows and columns (via its index num)"
   ]
  },
  {
   "cell_type": "code",
   "execution_count": null,
   "id": "879001be-1a4b-474b-980c-d6232eefcf00",
   "metadata": {},
   "outputs": [],
   "source": [
    "df.iloc[0:3,0:2]"
   ]
  },
  {
   "cell_type": "code",
   "execution_count": null,
   "id": "7a85dc5f-f9bc-417f-97cc-462fc6f29213",
   "metadata": {},
   "outputs": [],
   "source": [
    "#Filter dataframe with a criteria"
   ]
  },
  {
   "cell_type": "code",
   "execution_count": null,
   "id": "a3641bb6-7735-492a-84ce-a09fcaf47f85",
   "metadata": {},
   "outputs": [],
   "source": [
    "df[df[\"item_bought\"]>15]"
   ]
  },
  {
   "cell_type": "code",
   "execution_count": null,
   "id": "893ef1eb-db58-4f1c-80c5-a9af60b93d7d",
   "metadata": {},
   "outputs": [],
   "source": [
    "#Filter dataframe with several criterias (AND)"
   ]
  },
  {
   "cell_type": "code",
   "execution_count": null,
   "id": "65ef4b75-7699-40b4-a78e-57df17693508",
   "metadata": {},
   "outputs": [],
   "source": [
    "df[(df[\"item_bought\"]>15) & (df[\"city\"]!= \"Bogor\")]"
   ]
  },
  {
   "cell_type": "code",
   "execution_count": null,
   "id": "defe8410-5ee1-43b0-af0d-5aaecd99225b",
   "metadata": {},
   "outputs": [],
   "source": [
    "#Filter dataframe with several criterias (OR)"
   ]
  },
  {
   "cell_type": "code",
   "execution_count": null,
   "id": "66f4edd6-703e-4c10-a725-92ac84880b9c",
   "metadata": {},
   "outputs": [],
   "source": [
    "df[(df[\"item_bought\"]>15) | (df[\"city\"]!= \"Bogor\")]"
   ]
  },
  {
   "cell_type": "code",
   "execution_count": null,
   "id": "8fa79563-331a-4f1f-928b-3e300be7e2c8",
   "metadata": {},
   "outputs": [],
   "source": [
    "#Check missing values"
   ]
  },
  {
   "cell_type": "code",
   "execution_count": null,
   "id": "5a6acfaa-1319-4ce0-9b1e-7b16424548a5",
   "metadata": {},
   "outputs": [],
   "source": [
    "df = pd.DataFrame({\n",
    "    \"cust_id\": [\"C1\", \"C2\", \"C3\", \"C4\", \"C5\", \"C6\"],\n",
    "    \"item_bought\": [10,15,20,35,4, np.nan],\n",
    "    \"city\": [\"Bandung\", \"Jakarta\", \"Bogor\", \"Tangerang\", \"Bandung\", np.nan]\n",
    "    })\n",
    "df"
   ]
  },
  {
   "cell_type": "code",
   "execution_count": null,
   "id": "df8b6a45-8639-4465-9cec-45e0dff530dd",
   "metadata": {},
   "outputs": [],
   "source": [
    "df.isna().sum()"
   ]
  },
  {
   "cell_type": "code",
   "execution_count": null,
   "id": "d3d581f4-a84c-4d76-b695-1471e18316c7",
   "metadata": {},
   "outputs": [],
   "source": [
    "#Handle Missing Values"
   ]
  },
  {
   "cell_type": "code",
   "execution_count": null,
   "id": "d8149a39-412e-464b-989f-3c28abf4a801",
   "metadata": {},
   "outputs": [],
   "source": [
    "#Remove rows"
   ]
  },
  {
   "cell_type": "code",
   "execution_count": null,
   "id": "e28051aa-581a-4d02-8661-d25351988457",
   "metadata": {},
   "outputs": [],
   "source": [
    "df.dropna()"
   ]
  },
  {
   "cell_type": "code",
   "execution_count": null,
   "id": "f9323ffe-19f9-4523-9dc5-bac7a0df1bf9",
   "metadata": {},
   "outputs": [],
   "source": [
    "#Fill with 0 for numerical"
   ]
  },
  {
   "cell_type": "code",
   "execution_count": null,
   "id": "d9b5109b-b423-4b95-8c6e-6108e86bab9b",
   "metadata": {},
   "outputs": [],
   "source": [
    "df[\"item_bought\"] = df[\"item_bought\"].fillna(0)\n",
    "df"
   ]
  },
  {
   "cell_type": "code",
   "execution_count": null,
   "id": "610c8304-484b-4459-8f00-1881be35989f",
   "metadata": {},
   "outputs": [],
   "source": [
    "#Fill with mean/median"
   ]
  },
  {
   "cell_type": "code",
   "execution_count": null,
   "id": "70e16631-5314-4f2c-8989-c513decc82b6",
   "metadata": {},
   "outputs": [],
   "source": [
    "df[\"item_bought\"] = df[\"item_bought\"].fillna(df[\"item_bought\"].mean())\n",
    "df"
   ]
  },
  {
   "cell_type": "code",
   "execution_count": null,
   "id": "70607355-eff0-445e-89b7-567b8c3e27c8",
   "metadata": {},
   "outputs": [],
   "source": [
    "df[\"item_bought\"] = df[\"item_bought\"].fillna(df[\"item_bought\"].median())\n",
    "df"
   ]
  },
  {
   "cell_type": "code",
   "execution_count": null,
   "id": "13de642e-e593-4fa1-aa9f-128e9aae8469",
   "metadata": {},
   "outputs": [],
   "source": [
    "#Fill with mode for categorical"
   ]
  },
  {
   "cell_type": "code",
   "execution_count": null,
   "id": "1c4c501b-5202-416b-9f10-13bfd9880da7",
   "metadata": {},
   "outputs": [],
   "source": [
    "df[\"city\"] = df[\"city\"].fillna(df[\"city\"].mode()[0])\n",
    "df"
   ]
  },
  {
   "cell_type": "code",
   "execution_count": null,
   "id": "0b2a3cf3-26ce-4da5-9d89-02b1acbe2e84",
   "metadata": {},
   "outputs": [],
   "source": [
    "#Check outliers"
   ]
  },
  {
   "cell_type": "code",
   "execution_count": null,
   "id": "84799fa1-012d-4c47-99e1-96f95cfa9161",
   "metadata": {},
   "outputs": [],
   "source": [
    "df = pd.DataFrame({\n",
    "    \"cust_id\": [\"C1\", \"C2\", \"C3\", \"C4\", \"C5\", \"C6\", \"C7\", \"C8\", \"C9\", \"C10\", \"C11\"],\n",
    "    \"item_bought\": [10,7,5,4,10000, 10, 5, 5, 7, 4, 5],\n",
    "    \"city\": [\"Bandung\", \"Jakarta\", \"Bogor\", \"Tangerang\", \"Bandung\", \"Bogor\", \"Bogor\", \"Bogor\", \"Bandung\", \"Jakarta\", \"Bogor\"]\n",
    "    })\n",
    "df"
   ]
  },
  {
   "cell_type": "code",
   "execution_count": null,
   "id": "a2d67245-76a9-405b-8fd5-6d55a63515e2",
   "metadata": {},
   "outputs": [],
   "source": [
    "#Z-Score"
   ]
  },
  {
   "cell_type": "code",
   "execution_count": null,
   "id": "88418228-5b39-420f-ac6f-32431f84d990",
   "metadata": {},
   "outputs": [],
   "source": [
    "import scipy.stats as stats"
   ]
  },
  {
   "cell_type": "code",
   "execution_count": null,
   "id": "d05f9977-9964-437e-bac9-8adaebaa28a1",
   "metadata": {},
   "outputs": [],
   "source": [
    "df[(np.abs(stats.zscore(df[\"item_bought\"])) >= 3)]"
   ]
  },
  {
   "cell_type": "code",
   "execution_count": null,
   "id": "833ade3f-74e2-475b-a9ff-08e0f1b89e1b",
   "metadata": {},
   "outputs": [],
   "source": [
    "#IQR"
   ]
  },
  {
   "cell_type": "code",
   "execution_count": null,
   "id": "4cd7599c-3e33-4a41-acff-92877ad1f795",
   "metadata": {},
   "outputs": [],
   "source": [
    "q1 = df[\"item_bought\"].quantile(0.25)\n",
    "q3 = df[\"item_bought\"].quantile(0.75)\n",
    "\n",
    "iqr = q3-q1 #Interquartile range\n",
    "fence_low  = q1-1.5*iqr\n",
    "fence_high = q3+1.5*iqr\n",
    "\n",
    "df.loc[(df[\"item_bought\"] < fence_low) | (df[\"item_bought\"] > fence_high)]"
   ]
  },
  {
   "cell_type": "code",
   "execution_count": null,
   "id": "19df8e8d-cb3b-4c44-bb26-7fff122ab867",
   "metadata": {},
   "outputs": [],
   "source": [
    "#Handle Outliers"
   ]
  },
  {
   "cell_type": "code",
   "execution_count": null,
   "id": "83e1295c-cfba-45b5-a455-3418f65ab885",
   "metadata": {},
   "outputs": [],
   "source": [
    "#Z-Score\n",
    "df_clean = df[(np.abs(stats.zscore(df[\"item_bought\"])) < 3)]\n",
    "\n",
    "#IQR\n",
    "df_clean = df.loc[(df[\"item_bought\"] >= fence_low) & (df[\"item_bought\"] <= fence_high)]\n",
    "\n",
    "df_clean"
   ]
  },
  {
   "cell_type": "code",
   "execution_count": null,
   "id": "c729e01e-ac7f-4076-a989-f4cd11e6fdba",
   "metadata": {},
   "outputs": [],
   "source": [
    "#Check Duplicates"
   ]
  },
  {
   "cell_type": "code",
   "execution_count": null,
   "id": "12e5a29f-3d4b-4bef-8c73-8d01ee561834",
   "metadata": {},
   "outputs": [],
   "source": [
    "df = pd.DataFrame({\n",
    "    \"cust_id\": [\"C1\", \"C2\", \"C3\", \"C4\", \"C5\", \"C6\", \"C7\", \"C8\", \"C9\", \"C10\", \"C7\"],\n",
    "    \"item_bought\": [10,7,5,4,10000, 10, 5, 5, 7, 4, 5],\n",
    "    \"city\": [\"Bandung\", \"Jakarta\", \"Bogor\", \"Tangerang\", \"Bandung\", \"Bogor\", \"Bogor\", \"Bogor\", \"Bandung\", \"Jakarta\", \"Bogor\"]\n",
    "    })\n",
    "df"
   ]
  },
  {
   "cell_type": "code",
   "execution_count": null,
   "id": "cb941b64-90b6-47b0-85a7-7ab71d3ee2b4",
   "metadata": {},
   "outputs": [],
   "source": [
    "df.duplicated().sum()"
   ]
  },
  {
   "cell_type": "code",
   "execution_count": null,
   "id": "dd4393a2-33ae-4c10-a2ec-57c0ab01a9ac",
   "metadata": {},
   "outputs": [],
   "source": [
    "#Handle Duplicates"
   ]
  },
  {
   "cell_type": "code",
   "execution_count": null,
   "id": "6c5a9355-e699-4185-9f56-f42d1754a485",
   "metadata": {},
   "outputs": [],
   "source": [
    "df.drop_duplicates()"
   ]
  },
  {
   "cell_type": "code",
   "execution_count": null,
   "id": "1d20304c-e123-4807-9905-4230d5b88e70",
   "metadata": {},
   "outputs": [],
   "source": [
    "df = pd.DataFrame({\n",
    "    \"name\": [\"Anna\", \"Dane\", \"David\", \"Kevin\", \"Joe\", \"Rose\"],\n",
    "    \"weight\": [45.2, 50.5, 62.1, 64.0, 59.0, np.nan],\n",
    "    \"height\": [155, 160, 162, 170, 167, 159],\n",
    "    \"birth_year\": [2000,1997,1996,1987,1998,2003],\n",
    "    \"gender\": [\"female\", \"male\", \"male\", \"male\", \"male\", \"female\"],\n",
    "    \"city\": [\"New York\", \"Chicago\", \"Austin\", \"New York\", np.nan, \"New York\"]\n",
    "    })\n",
    "df"
   ]
  },
  {
   "cell_type": "code",
   "execution_count": null,
   "id": "38849bd5-1f56-4f0c-a99c-d38ba41ce4ca",
   "metadata": {},
   "outputs": [],
   "source": [
    "df[[\"name\", \"birth_year\", \"height\", \"weight\", \"city\", \"gender\"]]"
   ]
  },
  {
   "cell_type": "code",
   "execution_count": null,
   "id": "578770ac-dfc2-4261-a742-1b66398df6e9",
   "metadata": {},
   "outputs": [],
   "source": []
  }
 ],
 "metadata": {
  "kernelspec": {
   "display_name": "Python 3 (ipykernel)",
   "language": "python",
   "name": "python3"
  },
  "language_info": {
   "codemirror_mode": {
    "name": "ipython",
    "version": 3
   },
   "file_extension": ".py",
   "mimetype": "text/x-python",
   "name": "python",
   "nbconvert_exporter": "python",
   "pygments_lexer": "ipython3",
   "version": "3.9.7"
  }
 },
 "nbformat": 4,
 "nbformat_minor": 5
}
