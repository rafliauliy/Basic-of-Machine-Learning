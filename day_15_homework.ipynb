{
 "cells": [
  {
   "cell_type": "markdown",
   "id": "1854e224",
   "metadata": {},
   "source": [
    "## Unsupervised ML Python Homework"
   ]
  },
  {
   "cell_type": "code",
   "execution_count": 1,
   "id": "19e2e47b",
   "metadata": {},
   "outputs": [],
   "source": [
    "import numpy as np\n",
    "import pandas as pd\n",
    "import sklearn\n",
    "import sys\n",
    "import warnings\n",
    "import os\n",
    "if not sys.warnoptions:\n",
    "    warnings.simplefilter(\"ignore\")\n",
    "    os.environ[\"PYTHONWARNINGS\"] = \"ignore\" \n",
    "\n",
    "import matplotlib.pyplot as plt\n",
    "import seaborn as sns\n",
    "import time\n",
    "\n",
    "\n",
    "from sklearn.decomposition import PCA\n",
    "\n",
    "import numpy as np\n",
    "import pandas as pd\n",
    "\n",
    "from sklearn.cluster import KMeans\n",
    "from sklearn.metrics import silhouette_samples, silhouette_score\n",
    "\n",
    "import matplotlib.pyplot as plt\n",
    "import matplotlib.cm as cm\n",
    "import seaborn as sns"
   ]
  },
  {
   "cell_type": "code",
   "execution_count": 2,
   "id": "4ee45efc",
   "metadata": {},
   "outputs": [],
   "source": [
    "data = pd.read_csv('unsupervised_ml_homework_data.csv')"
   ]
  },
  {
   "cell_type": "markdown",
   "id": "5d57c5f6",
   "metadata": {},
   "source": [
    "### Soal 1: PCA"
   ]
  },
  {
   "cell_type": "markdown",
   "id": "814b4ae8",
   "metadata": {},
   "source": [
    "Instruksi:\n",
    "1. Lakukan PCA pada data yang telah di-import di cell atas.\n",
    "2. Ketentuan PCA: Ambil sampai threshold explained variancenya 0.8 (80%)\n",
    "3. Berapa Principal Components yang diambil?\n",
    "4. Simpan data hasil PCA karena data hasil PCA ini akan digunakan di Soal 2: K-Means"
   ]
  },
  {
   "cell_type": "code",
   "execution_count": null,
   "id": "96d64187",
   "metadata": {},
   "outputs": [],
   "source": [
    "### lakukan PCA di sini"
   ]
  },
  {
   "cell_type": "markdown",
   "id": "3811b3d1",
   "metadata": {},
   "source": [
    "##### Jawab: Hasil PCA adalah mengambil ?? Principal Components. (isi ?? dengan angka)"
   ]
  },
  {
   "cell_type": "markdown",
   "id": "9d628c85",
   "metadata": {},
   "source": [
    "### Soal 2: K Means"
   ]
  },
  {
   "cell_type": "markdown",
   "id": "9e172fc0",
   "metadata": {},
   "source": [
    "Instruksi:\n",
    "1. Dari data yang sudah di-PCA-kan (jadi datanya sudah baru ya, bukan data original lagi, ingat, data yang sudah di-PCA-kan), kita akan menentukan k = ?? yang paling ideal untuk clustering.\n",
    "2. Lakukan Elbow dan Silhouette method\n",
    "3. Visualisasikan hasil Elbow dan Silhouette method\n",
    "4. Berapa nilai k yang terbaik? "
   ]
  },
  {
   "cell_type": "code",
   "execution_count": 1,
   "id": "ccf104c7",
   "metadata": {},
   "outputs": [],
   "source": [
    "# Elbow Method"
   ]
  },
  {
   "cell_type": "code",
   "execution_count": 3,
   "id": "6ef458a5",
   "metadata": {},
   "outputs": [],
   "source": [
    "# Silhouette score"
   ]
  },
  {
   "cell_type": "markdown",
   "id": "91faa167",
   "metadata": {},
   "source": [
    "##### Jawab: Nilai k yang terbaik berdasarkan Elbow dan Silhouette method adalah...k = ??"
   ]
  },
  {
   "cell_type": "code",
   "execution_count": null,
   "id": "ff884797",
   "metadata": {},
   "outputs": [],
   "source": []
  },
  {
   "cell_type": "code",
   "execution_count": null,
   "id": "6af3a630",
   "metadata": {},
   "outputs": [],
   "source": []
  },
  {
   "cell_type": "code",
   "execution_count": null,
   "id": "1c0a133e",
   "metadata": {},
   "outputs": [],
   "source": []
  }
 ],
 "metadata": {
  "kernelspec": {
   "display_name": "Python 3 (ipykernel)",
   "language": "python",
   "name": "python3"
  },
  "language_info": {
   "codemirror_mode": {
    "name": "ipython",
    "version": 3
   },
   "file_extension": ".py",
   "mimetype": "text/x-python",
   "name": "python",
   "nbconvert_exporter": "python",
   "pygments_lexer": "ipython3",
   "version": "3.9.7"
  }
 },
 "nbformat": 4,
 "nbformat_minor": 5
}
