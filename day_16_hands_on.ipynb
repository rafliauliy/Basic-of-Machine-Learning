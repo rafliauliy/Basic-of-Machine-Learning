{
 "cells": [
  {
   "cell_type": "markdown",
   "id": "0f6e9859",
   "metadata": {},
   "source": [
    "## Welcome to Day 16 Hands On!"
   ]
  },
  {
   "cell_type": "code",
   "execution_count": 1,
   "id": "b54e4a5f",
   "metadata": {},
   "outputs": [],
   "source": [
    "import pandas as pd\n",
    "import numpy as np"
   ]
  },
  {
   "cell_type": "markdown",
   "id": "7eea4c06",
   "metadata": {},
   "source": [
    "### Part 1: Regularized Regression"
   ]
  },
  {
   "cell_type": "markdown",
   "id": "1b66d905",
   "metadata": {},
   "source": [
    "Pada kesempatan kali ini, kita akan mengunduh data dari: http://archive.ics.uci.edu/ml/datasets/Communities+and+Crime. Kita diminta untuk memprediksi jumlah `Violent Crime` yang terjadi pada setiap lokasi (satu lokasi direpresentasikan oleh satu baris). Terdapat 120 kolom 'feature', dan hanya 1 kolom predictor.\n",
    "\n",
    "Berarti, datanya memiliki ukuran yang besar, banyak kolom, dan mungkin saja banyak kolom yang 'redundant' atau malah tidak penting. Jika kita menggunakan semua kolom tersebut, maka kemungkinan OverFitting akan besar terjadi. Oleh sebab itu, mari kita lihat apakah regularization membantu atau tidak. \n",
    "\n",
    "Selain itu, data ini juga memiliki banyak missing values. Dari hampir 2000 baris, hanya ada 300 baris yang memiliki nilai penuh (tanpa missing values). Missing values yang dihadapi di sini juga sulit untuk diimputasikan dikarenakan banyaknya kolom yang ada. \n",
    "\n",
    "Ini adalah salah satu contoh data yang memiliki kualitas 'buruk' (row sedikit, kolom sangat banyak dan kita tidak memiliki domain knowledge yang cukup, serta banyak missing values). "
   ]
  },
  {
   "cell_type": "code",
   "execution_count": 2,
   "id": "d0d00079",
   "metadata": {},
   "outputs": [],
   "source": [
    "from sklearn.linear_model import LinearRegression\n",
    "\n",
    "from sklearn.model_selection import cross_val_score\n",
    "from sklearn.model_selection import KFold\n",
    "from sklearn.model_selection import train_test_split\n",
    "\n",
    "from sklearn.metrics import mean_squared_error as mse"
   ]
  },
  {
   "cell_type": "code",
   "execution_count": 4,
   "id": "f0f7353d",
   "metadata": {},
   "outputs": [],
   "source": [
    "import pandas as pd\n",
    "url = 'https://github.com/albahnsen/PracticalMachineLearningClass/raw/master/datasets/communities.data'\n",
    "crime = pd.read_csv(url, header=None, na_values=['?'])\n",
    "\n",
    "df = crime.iloc[:,5:]\n",
    "df['location'] = crime[[3]]\n",
    "\n",
    "df = df.dropna().reset_index(drop = True)"
   ]
  },
  {
   "cell_type": "code",
   "execution_count": 5,
   "id": "052d1633",
   "metadata": {},
   "outputs": [],
   "source": [
    "X = df.drop(127, axis=1)\n",
    "X = X.drop('location', axis = 1)\n",
    "y = df[127]"
   ]
  },
  {
   "cell_type": "code",
   "execution_count": 6,
   "id": "bd6490bc",
   "metadata": {},
   "outputs": [],
   "source": [
    "X_train, X_test, y_train, y_test = train_test_split(X, y, random_state=1, test_size = 0.2)"
   ]
  },
  {
   "cell_type": "code",
   "execution_count": 7,
   "id": "c4e979a8",
   "metadata": {},
   "outputs": [],
   "source": [
    "def k_fold_eval(model):\n",
    "    kf = KFold(n_splits = 5)\n",
    "    RMSE_length = 5\n",
    "    RMSE_list = []\n",
    "    \n",
    "    for i, (train, val) in enumerate(kf.split(X_train)):\n",
    "        train_features = X_train.iloc[train]\n",
    "        train_target = y_train.iloc[train]\n",
    "        \n",
    "        val_features = X_train.iloc[val]\n",
    "        val_target = y_train.iloc[val]\n",
    "        \n",
    "        ml_model = model.fit(train_features, train_target)\n",
    "        prediction = ml_model.predict(val_features)\n",
    "        \n",
    "        rmse_score = np.sqrt(mse(val_target, prediction))\n",
    "        RMSE_list.append(rmse_score)\n",
    "        \n",
    "    print('RMSE Scores:')\n",
    "    print(RMSE_list)\n",
    "    print('')\n",
    "    print(f'Average RMSE Score: {np.mean(RMSE_list)}')\n",
    "    print('')\n",
    "    \n",
    "    ml_model_final = model.fit(X_train, y_train)\n",
    "    test_prediction = ml_model_final.predict(X_test)\n",
    "    rmse_final = np.sqrt(mse(y_test, test_prediction))\n",
    "    \n",
    "    print(f'RMSE Evaluate on Test Set: {rmse_final}')\n",
    "    return ml_model_final"
   ]
  },
  {
   "cell_type": "code",
   "execution_count": 7,
   "id": "2eebe56e",
   "metadata": {},
   "outputs": [
    {
     "name": "stdout",
     "output_type": "stream",
     "text": [
      "RMSE Scores:\n",
      "[0.20371217588591506, 0.25960386793372614, 0.24344012193554376, 0.2575351704673994, 0.28869148341738105]\n",
      "\n",
      "Average RMSE Score: 0.2505965639279931\n",
      "\n",
      "RMSE Evaluate on Test Set: 0.23422645103031592\n"
     ]
    }
   ],
   "source": [
    "linear_reg = k_fold_eval(LinearRegression())"
   ]
  },
  {
   "cell_type": "markdown",
   "id": "48393a27",
   "metadata": {},
   "source": [
    "Okay, dengan Linear Regression, kita mendapatkan rata-rata RMSE 0.22 (pada cross validation), serta RMSE 0.23 pada Test Set. "
   ]
  },
  {
   "cell_type": "code",
   "execution_count": 8,
   "id": "3ee16ef8",
   "metadata": {},
   "outputs": [],
   "source": [
    "from sklearn.linear_model import Ridge\n",
    "from sklearn.linear_model import Lasso\n",
    "from sklearn.linear_model import ElasticNet"
   ]
  },
  {
   "cell_type": "code",
   "execution_count": 9,
   "id": "cd0169c4",
   "metadata": {},
   "outputs": [
    {
     "name": "stdout",
     "output_type": "stream",
     "text": [
      "RMSE Scores:\n",
      "[0.15380004240411324, 0.2134904059783278, 0.18486171017651526, 0.1667428055830604, 0.19832156274921256]\n",
      "\n",
      "Average RMSE Score: 0.18344330537824588\n",
      "\n",
      "RMSE Evaluate on Test Set: 0.16683820768815244\n"
     ]
    }
   ],
   "source": [
    "ridge_reg = k_fold_eval(Ridge())"
   ]
  },
  {
   "cell_type": "code",
   "execution_count": 10,
   "id": "83d9160a",
   "metadata": {},
   "outputs": [
    {
     "name": "stdout",
     "output_type": "stream",
     "text": [
      "RMSE Scores:\n",
      "[0.26494020130075124, 0.3072293744166097, 0.2959851861025427, 0.2707031627558652, 0.2784957810065473]\n",
      "\n",
      "Average RMSE Score: 0.28347074111646325\n",
      "\n",
      "RMSE Evaluate on Test Set: 0.24938730808883183\n"
     ]
    }
   ],
   "source": [
    "lasso_reg = k_fold_eval(Lasso())"
   ]
  },
  {
   "cell_type": "code",
   "execution_count": 11,
   "id": "0faa13d3",
   "metadata": {},
   "outputs": [
    {
     "name": "stdout",
     "output_type": "stream",
     "text": [
      "RMSE Scores:\n",
      "[0.26494020130075124, 0.3072293744166097, 0.2959851861025427, 0.2707031627558652, 0.2784957810065473]\n",
      "\n",
      "Average RMSE Score: 0.28347074111646325\n",
      "\n",
      "RMSE Evaluate on Test Set: 0.24938730808883183\n"
     ]
    }
   ],
   "source": [
    "elastic_net = k_fold_eval(ElasticNet())"
   ]
  },
  {
   "cell_type": "markdown",
   "id": "dc9e8594",
   "metadata": {},
   "source": [
    "Ternyata, pada data kita kali ini, teknik \"regularization\" yang paling \"ampuh\" adalah Ridge Regression. "
   ]
  },
  {
   "cell_type": "markdown",
   "id": "740422fc",
   "metadata": {},
   "source": [
    "Apa bedanya Ridge Regression dan Linear Regression? Jika kita ingat pemaparan di teori, Ridge Regression berusaha membuat agar nilai koefisien regresi sekecil mungkin. Yuk bandingin koefisien regresi di Ridge dan di Linear Regression!"
   ]
  },
  {
   "cell_type": "code",
   "execution_count": 12,
   "id": "7e1259f7",
   "metadata": {},
   "outputs": [
    {
     "data": {
      "text/plain": [
       "6.339058904227911"
      ]
     },
     "execution_count": 12,
     "metadata": {},
     "output_type": "execute_result"
    }
   ],
   "source": [
    "np.abs(ridge_reg.coef_).sum()"
   ]
  },
  {
   "cell_type": "code",
   "execution_count": 13,
   "id": "831a69e1",
   "metadata": {},
   "outputs": [
    {
     "data": {
      "text/plain": [
       "148.75334563710976"
      ]
     },
     "execution_count": 13,
     "metadata": {},
     "output_type": "execute_result"
    }
   ],
   "source": [
    "np.abs(linear_reg.coef_).sum()"
   ]
  },
  {
   "cell_type": "markdown",
   "id": "2805e401",
   "metadata": {},
   "source": [
    "### Part 2: K-Nearest Neighbors"
   ]
  },
  {
   "cell_type": "code",
   "execution_count": 14,
   "id": "544a1109",
   "metadata": {},
   "outputs": [],
   "source": [
    "heart_data = pd.read_csv('heart.csv')"
   ]
  },
  {
   "cell_type": "code",
   "execution_count": 15,
   "id": "163997da",
   "metadata": {},
   "outputs": [
    {
     "data": {
      "text/html": [
       "<div>\n",
       "<style scoped>\n",
       "    .dataframe tbody tr th:only-of-type {\n",
       "        vertical-align: middle;\n",
       "    }\n",
       "\n",
       "    .dataframe tbody tr th {\n",
       "        vertical-align: top;\n",
       "    }\n",
       "\n",
       "    .dataframe thead th {\n",
       "        text-align: right;\n",
       "    }\n",
       "</style>\n",
       "<table border=\"1\" class=\"dataframe\">\n",
       "  <thead>\n",
       "    <tr style=\"text-align: right;\">\n",
       "      <th></th>\n",
       "      <th>age</th>\n",
       "      <th>sex</th>\n",
       "      <th>cp</th>\n",
       "      <th>trestbps</th>\n",
       "      <th>chol</th>\n",
       "      <th>fbs</th>\n",
       "      <th>restecg</th>\n",
       "      <th>thalach</th>\n",
       "      <th>exang</th>\n",
       "      <th>oldpeak</th>\n",
       "      <th>slope</th>\n",
       "      <th>ca</th>\n",
       "      <th>thal</th>\n",
       "      <th>target</th>\n",
       "    </tr>\n",
       "  </thead>\n",
       "  <tbody>\n",
       "    <tr>\n",
       "      <th>0</th>\n",
       "      <td>63</td>\n",
       "      <td>1</td>\n",
       "      <td>3</td>\n",
       "      <td>145</td>\n",
       "      <td>233</td>\n",
       "      <td>1</td>\n",
       "      <td>0</td>\n",
       "      <td>150</td>\n",
       "      <td>0</td>\n",
       "      <td>2.3</td>\n",
       "      <td>0</td>\n",
       "      <td>0</td>\n",
       "      <td>1</td>\n",
       "      <td>1</td>\n",
       "    </tr>\n",
       "    <tr>\n",
       "      <th>1</th>\n",
       "      <td>37</td>\n",
       "      <td>1</td>\n",
       "      <td>2</td>\n",
       "      <td>130</td>\n",
       "      <td>250</td>\n",
       "      <td>0</td>\n",
       "      <td>1</td>\n",
       "      <td>187</td>\n",
       "      <td>0</td>\n",
       "      <td>3.5</td>\n",
       "      <td>0</td>\n",
       "      <td>0</td>\n",
       "      <td>2</td>\n",
       "      <td>1</td>\n",
       "    </tr>\n",
       "    <tr>\n",
       "      <th>2</th>\n",
       "      <td>41</td>\n",
       "      <td>0</td>\n",
       "      <td>1</td>\n",
       "      <td>130</td>\n",
       "      <td>204</td>\n",
       "      <td>0</td>\n",
       "      <td>0</td>\n",
       "      <td>172</td>\n",
       "      <td>0</td>\n",
       "      <td>1.4</td>\n",
       "      <td>2</td>\n",
       "      <td>0</td>\n",
       "      <td>2</td>\n",
       "      <td>1</td>\n",
       "    </tr>\n",
       "    <tr>\n",
       "      <th>3</th>\n",
       "      <td>56</td>\n",
       "      <td>1</td>\n",
       "      <td>1</td>\n",
       "      <td>120</td>\n",
       "      <td>236</td>\n",
       "      <td>0</td>\n",
       "      <td>1</td>\n",
       "      <td>178</td>\n",
       "      <td>0</td>\n",
       "      <td>0.8</td>\n",
       "      <td>2</td>\n",
       "      <td>0</td>\n",
       "      <td>2</td>\n",
       "      <td>1</td>\n",
       "    </tr>\n",
       "    <tr>\n",
       "      <th>4</th>\n",
       "      <td>57</td>\n",
       "      <td>0</td>\n",
       "      <td>0</td>\n",
       "      <td>120</td>\n",
       "      <td>354</td>\n",
       "      <td>0</td>\n",
       "      <td>1</td>\n",
       "      <td>163</td>\n",
       "      <td>1</td>\n",
       "      <td>0.6</td>\n",
       "      <td>2</td>\n",
       "      <td>0</td>\n",
       "      <td>2</td>\n",
       "      <td>1</td>\n",
       "    </tr>\n",
       "    <tr>\n",
       "      <th>...</th>\n",
       "      <td>...</td>\n",
       "      <td>...</td>\n",
       "      <td>...</td>\n",
       "      <td>...</td>\n",
       "      <td>...</td>\n",
       "      <td>...</td>\n",
       "      <td>...</td>\n",
       "      <td>...</td>\n",
       "      <td>...</td>\n",
       "      <td>...</td>\n",
       "      <td>...</td>\n",
       "      <td>...</td>\n",
       "      <td>...</td>\n",
       "      <td>...</td>\n",
       "    </tr>\n",
       "    <tr>\n",
       "      <th>298</th>\n",
       "      <td>57</td>\n",
       "      <td>0</td>\n",
       "      <td>0</td>\n",
       "      <td>140</td>\n",
       "      <td>241</td>\n",
       "      <td>0</td>\n",
       "      <td>1</td>\n",
       "      <td>123</td>\n",
       "      <td>1</td>\n",
       "      <td>0.2</td>\n",
       "      <td>1</td>\n",
       "      <td>0</td>\n",
       "      <td>3</td>\n",
       "      <td>0</td>\n",
       "    </tr>\n",
       "    <tr>\n",
       "      <th>299</th>\n",
       "      <td>45</td>\n",
       "      <td>1</td>\n",
       "      <td>3</td>\n",
       "      <td>110</td>\n",
       "      <td>264</td>\n",
       "      <td>0</td>\n",
       "      <td>1</td>\n",
       "      <td>132</td>\n",
       "      <td>0</td>\n",
       "      <td>1.2</td>\n",
       "      <td>1</td>\n",
       "      <td>0</td>\n",
       "      <td>3</td>\n",
       "      <td>0</td>\n",
       "    </tr>\n",
       "    <tr>\n",
       "      <th>300</th>\n",
       "      <td>68</td>\n",
       "      <td>1</td>\n",
       "      <td>0</td>\n",
       "      <td>144</td>\n",
       "      <td>193</td>\n",
       "      <td>1</td>\n",
       "      <td>1</td>\n",
       "      <td>141</td>\n",
       "      <td>0</td>\n",
       "      <td>3.4</td>\n",
       "      <td>1</td>\n",
       "      <td>2</td>\n",
       "      <td>3</td>\n",
       "      <td>0</td>\n",
       "    </tr>\n",
       "    <tr>\n",
       "      <th>301</th>\n",
       "      <td>57</td>\n",
       "      <td>1</td>\n",
       "      <td>0</td>\n",
       "      <td>130</td>\n",
       "      <td>131</td>\n",
       "      <td>0</td>\n",
       "      <td>1</td>\n",
       "      <td>115</td>\n",
       "      <td>1</td>\n",
       "      <td>1.2</td>\n",
       "      <td>1</td>\n",
       "      <td>1</td>\n",
       "      <td>3</td>\n",
       "      <td>0</td>\n",
       "    </tr>\n",
       "    <tr>\n",
       "      <th>302</th>\n",
       "      <td>57</td>\n",
       "      <td>0</td>\n",
       "      <td>1</td>\n",
       "      <td>130</td>\n",
       "      <td>236</td>\n",
       "      <td>0</td>\n",
       "      <td>0</td>\n",
       "      <td>174</td>\n",
       "      <td>0</td>\n",
       "      <td>0.0</td>\n",
       "      <td>1</td>\n",
       "      <td>1</td>\n",
       "      <td>2</td>\n",
       "      <td>0</td>\n",
       "    </tr>\n",
       "  </tbody>\n",
       "</table>\n",
       "<p>303 rows × 14 columns</p>\n",
       "</div>"
      ],
      "text/plain": [
       "     age  sex  cp  trestbps  chol  fbs  restecg  thalach  exang  oldpeak  \\\n",
       "0     63    1   3       145   233    1        0      150      0      2.3   \n",
       "1     37    1   2       130   250    0        1      187      0      3.5   \n",
       "2     41    0   1       130   204    0        0      172      0      1.4   \n",
       "3     56    1   1       120   236    0        1      178      0      0.8   \n",
       "4     57    0   0       120   354    0        1      163      1      0.6   \n",
       "..   ...  ...  ..       ...   ...  ...      ...      ...    ...      ...   \n",
       "298   57    0   0       140   241    0        1      123      1      0.2   \n",
       "299   45    1   3       110   264    0        1      132      0      1.2   \n",
       "300   68    1   0       144   193    1        1      141      0      3.4   \n",
       "301   57    1   0       130   131    0        1      115      1      1.2   \n",
       "302   57    0   1       130   236    0        0      174      0      0.0   \n",
       "\n",
       "     slope  ca  thal  target  \n",
       "0        0   0     1       1  \n",
       "1        0   0     2       1  \n",
       "2        2   0     2       1  \n",
       "3        2   0     2       1  \n",
       "4        2   0     2       1  \n",
       "..     ...  ..   ...     ...  \n",
       "298      1   0     3       0  \n",
       "299      1   0     3       0  \n",
       "300      1   2     3       0  \n",
       "301      1   1     3       0  \n",
       "302      1   1     2       0  \n",
       "\n",
       "[303 rows x 14 columns]"
      ]
     },
     "execution_count": 15,
     "metadata": {},
     "output_type": "execute_result"
    }
   ],
   "source": [
    "heart_data"
   ]
  },
  {
   "cell_type": "code",
   "execution_count": 16,
   "id": "5d0246da",
   "metadata": {},
   "outputs": [
    {
     "name": "stdout",
     "output_type": "stream",
     "text": [
      "<class 'pandas.core.frame.DataFrame'>\n",
      "RangeIndex: 303 entries, 0 to 302\n",
      "Data columns (total 14 columns):\n",
      " #   Column    Non-Null Count  Dtype  \n",
      "---  ------    --------------  -----  \n",
      " 0   age       303 non-null    int64  \n",
      " 1   sex       303 non-null    int64  \n",
      " 2   cp        303 non-null    int64  \n",
      " 3   trestbps  303 non-null    int64  \n",
      " 4   chol      303 non-null    int64  \n",
      " 5   fbs       303 non-null    int64  \n",
      " 6   restecg   303 non-null    int64  \n",
      " 7   thalach   303 non-null    int64  \n",
      " 8   exang     303 non-null    int64  \n",
      " 9   oldpeak   303 non-null    float64\n",
      " 10  slope     303 non-null    int64  \n",
      " 11  ca        303 non-null    int64  \n",
      " 12  thal      303 non-null    int64  \n",
      " 13  target    303 non-null    int64  \n",
      "dtypes: float64(1), int64(13)\n",
      "memory usage: 33.3 KB\n"
     ]
    }
   ],
   "source": [
    "heart_data.info()"
   ]
  },
  {
   "cell_type": "markdown",
   "id": "3b38563e",
   "metadata": {},
   "source": [
    "Data ini berisi data pasien dalam sebuah rumah sakit. Jika pasien memiliki nilai '0' pada `target`, maka pasien tersebut sehat, namun jika pasien tersebut memiliki nilai '1' pada `target`, maka pasien tersebut terdeteksi memiliki sakit jantung."
   ]
  },
  {
   "cell_type": "code",
   "execution_count": 17,
   "id": "75cd4a8c",
   "metadata": {},
   "outputs": [],
   "source": [
    "from sklearn.neighbors import KNeighborsClassifier\n",
    "from sklearn.metrics import accuracy_score"
   ]
  },
  {
   "cell_type": "code",
   "execution_count": 18,
   "id": "e4ca80ca",
   "metadata": {},
   "outputs": [],
   "source": [
    "X = heart_data.drop('target', axis = 'columns')\n",
    "y = heart_data['target']\n",
    "\n",
    "X_train, X_test, y_train, y_test = train_test_split(X, y, random_state=1, test_size = 0.2)"
   ]
  },
  {
   "cell_type": "code",
   "execution_count": 19,
   "id": "5a06d015",
   "metadata": {},
   "outputs": [],
   "source": [
    "kf = KFold(n_splits = 5)\n",
    "report_dictionary = {\n",
    "    'k':[],\n",
    "    'cross_val_avg_acc':[],\n",
    "    'test_data_acc':[]\n",
    "}\n",
    "\n",
    "for k in range(20):\n",
    "    acc_list = []\n",
    "    for i, (train, val) in enumerate(kf.split(X_train)):\n",
    "        train_features = X_train.iloc[train]\n",
    "        train_target = y_train.iloc[train]\n",
    "\n",
    "        val_features = X_train.iloc[val]\n",
    "        val_target = y_train.iloc[val]\n",
    "        \n",
    "        ml_model = KNeighborsClassifier(k+1).fit(train_features, train_target)\n",
    "        prediction = ml_model.predict(val_features)\n",
    "        \n",
    "        acc_list.append(accuracy_score(val_target, prediction))\n",
    "    \n",
    "    average_accuracy = np.mean(acc_list)\n",
    "    report_dictionary['k'].append(k+1)\n",
    "    report_dictionary['cross_val_avg_acc'].append(average_accuracy)\n",
    "    \n",
    "    ml_model_final = KNeighborsClassifier(k+1).fit(X_train, y_train)\n",
    "    prediction_test = ml_model_final.predict(X_test)\n",
    "    final_acc = accuracy_score(y_test, prediction_test)\n",
    "    \n",
    "    report_dictionary['test_data_acc'].append(final_acc)\n",
    "    "
   ]
  },
  {
   "cell_type": "code",
   "execution_count": 20,
   "id": "4aa41290",
   "metadata": {},
   "outputs": [
    {
     "data": {
      "text/html": [
       "<div>\n",
       "<style scoped>\n",
       "    .dataframe tbody tr th:only-of-type {\n",
       "        vertical-align: middle;\n",
       "    }\n",
       "\n",
       "    .dataframe tbody tr th {\n",
       "        vertical-align: top;\n",
       "    }\n",
       "\n",
       "    .dataframe thead th {\n",
       "        text-align: right;\n",
       "    }\n",
       "</style>\n",
       "<table border=\"1\" class=\"dataframe\">\n",
       "  <thead>\n",
       "    <tr style=\"text-align: right;\">\n",
       "      <th></th>\n",
       "      <th>k</th>\n",
       "      <th>cross_val_avg_acc</th>\n",
       "      <th>test_data_acc</th>\n",
       "    </tr>\n",
       "  </thead>\n",
       "  <tbody>\n",
       "    <tr>\n",
       "      <th>17</th>\n",
       "      <td>18</td>\n",
       "      <td>0.632483</td>\n",
       "      <td>0.639344</td>\n",
       "    </tr>\n",
       "    <tr>\n",
       "      <th>19</th>\n",
       "      <td>20</td>\n",
       "      <td>0.636565</td>\n",
       "      <td>0.622951</td>\n",
       "    </tr>\n",
       "    <tr>\n",
       "      <th>15</th>\n",
       "      <td>16</td>\n",
       "      <td>0.611650</td>\n",
       "      <td>0.622951</td>\n",
       "    </tr>\n",
       "    <tr>\n",
       "      <th>14</th>\n",
       "      <td>15</td>\n",
       "      <td>0.628231</td>\n",
       "      <td>0.622951</td>\n",
       "    </tr>\n",
       "    <tr>\n",
       "      <th>18</th>\n",
       "      <td>19</td>\n",
       "      <td>0.644813</td>\n",
       "      <td>0.606557</td>\n",
       "    </tr>\n",
       "  </tbody>\n",
       "</table>\n",
       "</div>"
      ],
      "text/plain": [
       "     k  cross_val_avg_acc  test_data_acc\n",
       "17  18           0.632483       0.639344\n",
       "19  20           0.636565       0.622951\n",
       "15  16           0.611650       0.622951\n",
       "14  15           0.628231       0.622951\n",
       "18  19           0.644813       0.606557"
      ]
     },
     "execution_count": 20,
     "metadata": {},
     "output_type": "execute_result"
    }
   ],
   "source": [
    "pd.DataFrame(report_dictionary).sort_values(['test_data_acc'], ascending = False).head(5)"
   ]
  },
  {
   "cell_type": "code",
   "execution_count": 21,
   "id": "ea770c97",
   "metadata": {},
   "outputs": [
    {
     "data": {
      "text/html": [
       "<div>\n",
       "<style scoped>\n",
       "    .dataframe tbody tr th:only-of-type {\n",
       "        vertical-align: middle;\n",
       "    }\n",
       "\n",
       "    .dataframe tbody tr th {\n",
       "        vertical-align: top;\n",
       "    }\n",
       "\n",
       "    .dataframe thead th {\n",
       "        text-align: right;\n",
       "    }\n",
       "</style>\n",
       "<table border=\"1\" class=\"dataframe\">\n",
       "  <thead>\n",
       "    <tr style=\"text-align: right;\">\n",
       "      <th></th>\n",
       "      <th>k</th>\n",
       "      <th>cross_val_avg_acc</th>\n",
       "      <th>test_data_acc</th>\n",
       "    </tr>\n",
       "  </thead>\n",
       "  <tbody>\n",
       "    <tr>\n",
       "      <th>2</th>\n",
       "      <td>3</td>\n",
       "      <td>0.677891</td>\n",
       "      <td>0.573770</td>\n",
       "    </tr>\n",
       "    <tr>\n",
       "      <th>3</th>\n",
       "      <td>4</td>\n",
       "      <td>0.648980</td>\n",
       "      <td>0.540984</td>\n",
       "    </tr>\n",
       "    <tr>\n",
       "      <th>4</th>\n",
       "      <td>5</td>\n",
       "      <td>0.648895</td>\n",
       "      <td>0.573770</td>\n",
       "    </tr>\n",
       "    <tr>\n",
       "      <th>6</th>\n",
       "      <td>7</td>\n",
       "      <td>0.644813</td>\n",
       "      <td>0.573770</td>\n",
       "    </tr>\n",
       "    <tr>\n",
       "      <th>18</th>\n",
       "      <td>19</td>\n",
       "      <td>0.644813</td>\n",
       "      <td>0.606557</td>\n",
       "    </tr>\n",
       "  </tbody>\n",
       "</table>\n",
       "</div>"
      ],
      "text/plain": [
       "     k  cross_val_avg_acc  test_data_acc\n",
       "2    3           0.677891       0.573770\n",
       "3    4           0.648980       0.540984\n",
       "4    5           0.648895       0.573770\n",
       "6    7           0.644813       0.573770\n",
       "18  19           0.644813       0.606557"
      ]
     },
     "execution_count": 21,
     "metadata": {},
     "output_type": "execute_result"
    }
   ],
   "source": [
    "pd.DataFrame(report_dictionary).sort_values(['cross_val_avg_acc'], ascending = False).head(5)"
   ]
  },
  {
   "cell_type": "markdown",
   "id": "5023e7a5",
   "metadata": {},
   "source": [
    "Kesimpulan:\n",
    "- Memang, rata-rata cross validation tertinggi dimenangkan oleh k = 3 dan k = 4, namun kedua KNN model ini memiliki nilai akurasi yang buruk pada data test. Ini adalah contoh bentuk dari overfitting - dimana model memiliki performa tinggi pada training set, namun buruk pada test set. \n",
    "\n",
    "- Hasil k = 18 dirasa optimal karena memiliki akurasi yang tinggi baik di training maupun di test set.\n",
    "\n",
    "Oleh sebab itu, k = 18 menjadi nilai 'k' yang optimal."
   ]
  },
  {
   "cell_type": "markdown",
   "id": "889af8af",
   "metadata": {},
   "source": [
    "### Part 3: Random Forest Tuning"
   ]
  },
  {
   "cell_type": "markdown",
   "id": "7aaa9be9",
   "metadata": {},
   "source": [
    "Untuk Random Forest, kita akan menggunakan dataset Apartment yang teman-teman sekalian telah analisa di EDA. Bedanya, kali ini kita langsung menggunakan dataset yang sudah dibersihkan dari 'kejanggalan'. "
   ]
  },
  {
   "cell_type": "code",
   "execution_count": 22,
   "id": "50756487",
   "metadata": {},
   "outputs": [],
   "source": [
    "apt = pd.read_csv('cleaned_apt_data.csv')"
   ]
  },
  {
   "cell_type": "code",
   "execution_count": 23,
   "id": "49ca3b8c",
   "metadata": {},
   "outputs": [
    {
     "data": {
      "text/html": [
       "<div>\n",
       "<style scoped>\n",
       "    .dataframe tbody tr th:only-of-type {\n",
       "        vertical-align: middle;\n",
       "    }\n",
       "\n",
       "    .dataframe tbody tr th {\n",
       "        vertical-align: top;\n",
       "    }\n",
       "\n",
       "    .dataframe thead th {\n",
       "        text-align: right;\n",
       "    }\n",
       "</style>\n",
       "<table border=\"1\" class=\"dataframe\">\n",
       "  <thead>\n",
       "    <tr style=\"text-align: right;\">\n",
       "      <th></th>\n",
       "      <th>No_Rooms</th>\n",
       "      <th>Bathroom</th>\n",
       "      <th>Longitude</th>\n",
       "      <th>Latitude</th>\n",
       "      <th>Furnished</th>\n",
       "      <th>Area</th>\n",
       "      <th>Total_Facilities</th>\n",
       "      <th>AnnualPrice</th>\n",
       "    </tr>\n",
       "  </thead>\n",
       "  <tbody>\n",
       "    <tr>\n",
       "      <th>0</th>\n",
       "      <td>1</td>\n",
       "      <td>1</td>\n",
       "      <td>106.819159</td>\n",
       "      <td>-6.226598</td>\n",
       "      <td>1</td>\n",
       "      <td>43.0</td>\n",
       "      <td>23</td>\n",
       "      <td>96000000</td>\n",
       "    </tr>\n",
       "    <tr>\n",
       "      <th>1</th>\n",
       "      <td>2</td>\n",
       "      <td>1</td>\n",
       "      <td>106.756061</td>\n",
       "      <td>-6.192081</td>\n",
       "      <td>0</td>\n",
       "      <td>35.0</td>\n",
       "      <td>19</td>\n",
       "      <td>30000000</td>\n",
       "    </tr>\n",
       "    <tr>\n",
       "      <th>2</th>\n",
       "      <td>2</td>\n",
       "      <td>1</td>\n",
       "      <td>106.757651</td>\n",
       "      <td>-6.186415</td>\n",
       "      <td>1</td>\n",
       "      <td>53.0</td>\n",
       "      <td>22</td>\n",
       "      <td>70000000</td>\n",
       "    </tr>\n",
       "    <tr>\n",
       "      <th>3</th>\n",
       "      <td>2</td>\n",
       "      <td>2</td>\n",
       "      <td>106.784600</td>\n",
       "      <td>-6.272637</td>\n",
       "      <td>1</td>\n",
       "      <td>85.0</td>\n",
       "      <td>24</td>\n",
       "      <td>576000000</td>\n",
       "    </tr>\n",
       "    <tr>\n",
       "      <th>4</th>\n",
       "      <td>2</td>\n",
       "      <td>1</td>\n",
       "      <td>106.796056</td>\n",
       "      <td>-6.153652</td>\n",
       "      <td>0</td>\n",
       "      <td>48.0</td>\n",
       "      <td>15</td>\n",
       "      <td>32000000</td>\n",
       "    </tr>\n",
       "  </tbody>\n",
       "</table>\n",
       "</div>"
      ],
      "text/plain": [
       "   No_Rooms  Bathroom   Longitude  Latitude  Furnished  Area  \\\n",
       "0         1         1  106.819159 -6.226598          1  43.0   \n",
       "1         2         1  106.756061 -6.192081          0  35.0   \n",
       "2         2         1  106.757651 -6.186415          1  53.0   \n",
       "3         2         2  106.784600 -6.272637          1  85.0   \n",
       "4         2         1  106.796056 -6.153652          0  48.0   \n",
       "\n",
       "   Total_Facilities  AnnualPrice  \n",
       "0                23     96000000  \n",
       "1                19     30000000  \n",
       "2                22     70000000  \n",
       "3                24    576000000  \n",
       "4                15     32000000  "
      ]
     },
     "execution_count": 23,
     "metadata": {},
     "output_type": "execute_result"
    }
   ],
   "source": [
    "apt.head()"
   ]
  },
  {
   "cell_type": "code",
   "execution_count": 24,
   "id": "498cc06a",
   "metadata": {},
   "outputs": [],
   "source": [
    "X = apt.drop('AnnualPrice', axis = 'columns')\n",
    "y = apt['AnnualPrice']"
   ]
  },
  {
   "cell_type": "code",
   "execution_count": 25,
   "id": "0a40931f",
   "metadata": {},
   "outputs": [],
   "source": [
    "from sklearn.ensemble import RandomForestRegressor\n",
    "from sklearn.metrics import r2_score\n",
    "\n",
    "base_model = RandomForestRegressor()"
   ]
  },
  {
   "cell_type": "code",
   "execution_count": 26,
   "id": "1370dddb",
   "metadata": {},
   "outputs": [],
   "source": [
    "X_train, X_test, y_train, y_test = train_test_split(X, y, random_state=1, test_size = 0.2)"
   ]
  },
  {
   "cell_type": "code",
   "execution_count": 27,
   "id": "f3816b53",
   "metadata": {},
   "outputs": [
    {
     "name": "stdout",
     "output_type": "stream",
     "text": [
      "Base Model has RMSE: 28305040.367174413\n",
      "Base Model has R2-Score: 0.9045058622190447\n"
     ]
    }
   ],
   "source": [
    "base_model.fit(X_train, y_train)\n",
    "base_pred = base_model.predict(X_test)\n",
    "base_rmse = np.sqrt(mse(y_test, base_pred))\n",
    "print('Base Model has RMSE:', base_rmse)\n",
    "print('Base Model has R2-Score:', r2_score(y_test, base_pred))"
   ]
  },
  {
   "cell_type": "code",
   "execution_count": 28,
   "id": "a5797675",
   "metadata": {},
   "outputs": [
    {
     "name": "stdout",
     "output_type": "stream",
     "text": [
      "{'n_estimators': [200, 400, 600, 800, 1000, 1200, 1400, 1600, 1800, 2000], 'max_features': ['auto', 'sqrt'], 'max_depth': [10, 20, 30, 40, 50, 60, 70, 80, 90, 100, 110, None], 'min_samples_split': [2, 5, 10], 'min_samples_leaf': [1, 2, 4]}\n"
     ]
    }
   ],
   "source": [
    "from sklearn.model_selection import RandomizedSearchCV\n",
    "\n",
    "# Number of trees in random forest\n",
    "n_estimators = [int(x) for x in np.linspace(start = 200, stop = 2000, num = 10)]\n",
    "# Number of features to consider at every split\n",
    "max_features = ['auto', 'sqrt']\n",
    "# Maximum number of levels in tree\n",
    "max_depth = [int(x) for x in np.linspace(10, 110, num = 11)]\n",
    "max_depth.append(None)\n",
    "# Minimum number of samples required to split a node\n",
    "min_samples_split = [2, 5, 10]\n",
    "# Minimum number of samples required at each leaf node\n",
    "min_samples_leaf = [1, 2, 4]\n",
    "\n",
    "# Create the random grid\n",
    "random_grid = {'n_estimators': n_estimators,\n",
    "               'max_features': max_features,\n",
    "               'max_depth': max_depth,\n",
    "               'min_samples_split': min_samples_split,\n",
    "               'min_samples_leaf': min_samples_leaf}\n",
    "\n",
    "print(random_grid)"
   ]
  },
  {
   "cell_type": "code",
   "execution_count": 29,
   "id": "3787a0fc",
   "metadata": {},
   "outputs": [
    {
     "name": "stdout",
     "output_type": "stream",
     "text": [
      "Fitting 5 folds for each of 100 candidates, totalling 500 fits\n"
     ]
    },
    {
     "data": {
      "text/plain": [
       "RandomizedSearchCV(cv=5, estimator=RandomForestRegressor(), n_iter=100,\n",
       "                   n_jobs=-1,\n",
       "                   param_distributions={'max_depth': [10, 20, 30, 40, 50, 60,\n",
       "                                                      70, 80, 90, 100, 110,\n",
       "                                                      None],\n",
       "                                        'max_features': ['auto', 'sqrt'],\n",
       "                                        'min_samples_leaf': [1, 2, 4],\n",
       "                                        'min_samples_split': [2, 5, 10],\n",
       "                                        'n_estimators': [200, 400, 600, 800,\n",
       "                                                         1000, 1200, 1400, 1600,\n",
       "                                                         1800, 2000]},\n",
       "                   random_state=42, return_train_score=True, verbose=3)"
      ]
     },
     "execution_count": 29,
     "metadata": {},
     "output_type": "execute_result"
    }
   ],
   "source": [
    "# Use the random grid to search for best hyperparameters\n",
    "# First create the base model to tune\n",
    "rf = RandomForestRegressor()\n",
    "# Random search of parameters, using 5 fold cross validation, \n",
    "# search across 100 different combinations, and use all available cores\n",
    "rf_random = RandomizedSearchCV(estimator=rf, param_distributions=random_grid,\n",
    "                              n_iter = 100, cv = 5, verbose=3, random_state=42, n_jobs=-1,\n",
    "                              return_train_score=True)\n",
    "\n",
    "# Fit the random search model\n",
    "rf_random.fit(X_train, y_train)"
   ]
  },
  {
   "cell_type": "code",
   "execution_count": 30,
   "id": "317e2958",
   "metadata": {},
   "outputs": [
    {
     "data": {
      "text/plain": [
       "{'n_estimators': 1600,\n",
       " 'min_samples_split': 2,\n",
       " 'min_samples_leaf': 1,\n",
       " 'max_features': 'auto',\n",
       " 'max_depth': 30}"
      ]
     },
     "execution_count": 30,
     "metadata": {},
     "output_type": "execute_result"
    }
   ],
   "source": [
    "rf_random.best_params_"
   ]
  },
  {
   "cell_type": "code",
   "execution_count": 8,
   "id": "6a4142ce",
   "metadata": {},
   "outputs": [
    {
     "ename": "NameError",
     "evalue": "name 'rf_random' is not defined",
     "output_type": "error",
     "traceback": [
      "\u001b[1;31m---------------------------------------------------------------------------\u001b[0m",
      "\u001b[1;31mNameError\u001b[0m                                 Traceback (most recent call last)",
      "\u001b[1;32mC:\\Users\\ACERPC~1\\AppData\\Local\\Temp/ipykernel_11148/3426401973.py\u001b[0m in \u001b[0;36m<module>\u001b[1;34m\u001b[0m\n\u001b[1;32m----> 1\u001b[1;33m \u001b[0mnew_pred\u001b[0m \u001b[1;33m=\u001b[0m \u001b[0mrf_random\u001b[0m\u001b[1;33m.\u001b[0m\u001b[0mbest_estimator_\u001b[0m\u001b[1;33m.\u001b[0m\u001b[0mpredict\u001b[0m\u001b[1;33m(\u001b[0m\u001b[0mX_test\u001b[0m\u001b[1;33m)\u001b[0m\u001b[1;33m\u001b[0m\u001b[1;33m\u001b[0m\u001b[0m\n\u001b[0m\u001b[0;32m      2\u001b[0m \u001b[0mnew_rmse\u001b[0m \u001b[1;33m=\u001b[0m \u001b[0mnp\u001b[0m\u001b[1;33m.\u001b[0m\u001b[0msqrt\u001b[0m\u001b[1;33m(\u001b[0m\u001b[0mmse\u001b[0m\u001b[1;33m(\u001b[0m\u001b[0my_test\u001b[0m\u001b[1;33m,\u001b[0m \u001b[0mnew_pred\u001b[0m\u001b[1;33m)\u001b[0m\u001b[1;33m)\u001b[0m\u001b[1;33m\u001b[0m\u001b[1;33m\u001b[0m\u001b[0m\n\u001b[0;32m      3\u001b[0m \u001b[0mprint\u001b[0m\u001b[1;33m(\u001b[0m\u001b[1;34m'New Model has RMSE:'\u001b[0m\u001b[1;33m,\u001b[0m \u001b[0mnew_rmse\u001b[0m\u001b[1;33m)\u001b[0m\u001b[1;33m\u001b[0m\u001b[1;33m\u001b[0m\u001b[0m\n\u001b[0;32m      4\u001b[0m \u001b[0mprint\u001b[0m\u001b[1;33m(\u001b[0m\u001b[1;34m'New Model has R2-Score:'\u001b[0m\u001b[1;33m,\u001b[0m \u001b[0mr2_score\u001b[0m\u001b[1;33m(\u001b[0m\u001b[0my_test\u001b[0m\u001b[1;33m,\u001b[0m \u001b[0mnew_pred\u001b[0m\u001b[1;33m)\u001b[0m\u001b[1;33m)\u001b[0m\u001b[1;33m\u001b[0m\u001b[1;33m\u001b[0m\u001b[0m\n",
      "\u001b[1;31mNameError\u001b[0m: name 'rf_random' is not defined"
     ]
    }
   ],
   "source": [
    "new_pred = rf_random.best_estimator_.predict(X_test)\n",
    "new_rmse = np.sqrt(mse(y_test, new_pred))\n",
    "print('New Model has RMSE:', new_rmse)\n",
    "print('New Model has R2-Score:', r2_score(y_test, new_pred))"
   ]
  },
  {
   "cell_type": "code",
   "execution_count": 9,
   "id": "86f50bc7",
   "metadata": {},
   "outputs": [
    {
     "ename": "NameError",
     "evalue": "name 'base_rmse' is not defined",
     "output_type": "error",
     "traceback": [
      "\u001b[1;31m---------------------------------------------------------------------------\u001b[0m",
      "\u001b[1;31mNameError\u001b[0m                                 Traceback (most recent call last)",
      "\u001b[1;32mC:\\Users\\ACERPC~1\\AppData\\Local\\Temp/ipykernel_11148/3062290274.py\u001b[0m in \u001b[0;36m<module>\u001b[1;34m\u001b[0m\n\u001b[1;32m----> 1\u001b[1;33m \u001b[0mprint\u001b[0m\u001b[1;33m(\u001b[0m\u001b[1;34m'Improvement of:'\u001b[0m\u001b[1;33m,\u001b[0m \u001b[1;33m(\u001b[0m\u001b[1;33m(\u001b[0m\u001b[0mbase_rmse\u001b[0m \u001b[1;33m-\u001b[0m \u001b[0mnew_rmse\u001b[0m\u001b[1;33m)\u001b[0m\u001b[1;33m/\u001b[0m\u001b[0mbase_rmse\u001b[0m\u001b[1;33m)\u001b[0m\u001b[1;33m*\u001b[0m\u001b[1;36m100\u001b[0m\u001b[1;33m,\u001b[0m \u001b[1;34m'%'\u001b[0m\u001b[1;33m)\u001b[0m\u001b[1;33m\u001b[0m\u001b[1;33m\u001b[0m\u001b[0m\n\u001b[0m",
      "\u001b[1;31mNameError\u001b[0m: name 'base_rmse' is not defined"
     ]
    }
   ],
   "source": [
    "print('Improvement of:', ((base_rmse - new_rmse)/base_rmse)*100, '%')"
   ]
  },
  {
   "cell_type": "code",
   "execution_count": null,
   "id": "02caa484",
   "metadata": {},
   "outputs": [],
   "source": []
  }
 ],
 "metadata": {
  "kernelspec": {
   "display_name": "Python 3 (ipykernel)",
   "language": "python",
   "name": "python3"
  },
  "language_info": {
   "codemirror_mode": {
    "name": "ipython",
    "version": 3
   },
   "file_extension": ".py",
   "mimetype": "text/x-python",
   "name": "python",
   "nbconvert_exporter": "python",
   "pygments_lexer": "ipython3",
   "version": "3.9.7"
  }
 },
 "nbformat": 4,
 "nbformat_minor": 5
}
